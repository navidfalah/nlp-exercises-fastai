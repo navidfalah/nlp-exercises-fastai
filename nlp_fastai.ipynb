{
  "cells": [
    {
      "cell_type": "code",
      "execution_count": null,
      "metadata": {
        "colab": {
          "base_uri": "https://localhost:8080/",
          "height": 37
        },
        "id": "tU0hkU0l-skY",
        "outputId": "7abf58cd-9114-43a3-b002-78ffbf3e109e"
      },
      "outputs": [
        {
          "output_type": "display_data",
          "data": {
            "text/plain": [
              "<IPython.core.display.HTML object>"
            ],
            "text/html": [
              "\n",
              "<style>\n",
              "    /* Turns off some styling */\n",
              "    progress {\n",
              "        /* gets rid of default border in Firefox and Opera. */\n",
              "        border: none;\n",
              "        /* Needs to be in here for Safari polyfill so background images work as expected. */\n",
              "        background-size: auto;\n",
              "    }\n",
              "    progress:not([value]), progress:not([value])::-webkit-progress-bar {\n",
              "        background: repeating-linear-gradient(45deg, #7e7e7e, #7e7e7e 10px, #5c5c5c 10px, #5c5c5c 20px);\n",
              "    }\n",
              "    .progress-bar-interrupted, .progress-bar-interrupted::-webkit-progress-bar {\n",
              "        background: #F44336;\n",
              "    }\n",
              "</style>\n"
            ]
          },
          "metadata": {}
        },
        {
          "output_type": "display_data",
          "data": {
            "text/plain": [
              "<IPython.core.display.HTML object>"
            ],
            "text/html": [
              "\n",
              "    <div>\n",
              "      <progress value='144441344' class='' max='144440600' style='width:300px; height:20px; vertical-align: middle;'></progress>\n",
              "      100.00% [144441344/144440600 00:11&lt;00:00]\n",
              "    </div>\n",
              "    "
            ]
          },
          "metadata": {}
        }
      ],
      "source": [
        "from fastai.text.all import *\n",
        "path = untar_data(URLs.IMDB)"
      ]
    },
    {
      "cell_type": "code",
      "execution_count": null,
      "metadata": {
        "colab": {
          "base_uri": "https://localhost:8080/"
        },
        "id": "COhO1rB1YqDU",
        "outputId": "ba8f67e0-bd77-4e70-e6d9-954b0a050347"
      },
      "outputs": [
        {
          "output_type": "execute_result",
          "data": {
            "text/plain": [
              "(#7) [Path('/root/.fastai/data/imdb/test'),Path('/root/.fastai/data/imdb/unsup'),Path('/root/.fastai/data/imdb/tmp_lm'),Path('/root/.fastai/data/imdb/README'),Path('/root/.fastai/data/imdb/imdb.vocab'),Path('/root/.fastai/data/imdb/tmp_clas'),Path('/root/.fastai/data/imdb/train')]"
            ]
          },
          "metadata": {},
          "execution_count": 2
        }
      ],
      "source": [
        "path.ls()"
      ]
    },
    {
      "cell_type": "code",
      "execution_count": null,
      "metadata": {
        "id": "oDews8EEXuab"
      },
      "outputs": [],
      "source": [
        "files = get_text_files(path, folders=['train', 'test', 'unsup'])"
      ]
    },
    {
      "cell_type": "code",
      "execution_count": null,
      "metadata": {
        "colab": {
          "base_uri": "https://localhost:8080/",
          "height": 35
        },
        "id": "MNm5OVAqYdXF",
        "outputId": "2ec60bb4-87d5-429c-cc1b-48e60d6759ad"
      },
      "outputs": [
        {
          "output_type": "execute_result",
          "data": {
            "text/plain": [
              "\"`It's as if this town has the power to suck your brain right out of your he\""
            ],
            "application/vnd.google.colaboratory.intrinsic+json": {
              "type": "string"
            }
          },
          "metadata": {},
          "execution_count": 4
        }
      ],
      "source": [
        "txt = files[0].open().read(); txt[:75]"
      ]
    },
    {
      "cell_type": "code",
      "execution_count": null,
      "metadata": {
        "colab": {
          "base_uri": "https://localhost:8080/"
        },
        "id": "JFgnEh_EYjmK",
        "outputId": "209ada8b-39e8-4fcd-c265-9eeadc46089f"
      },
      "outputs": [
        {
          "output_type": "stream",
          "name": "stdout",
          "text": [
            "(#403) ['`','It',\"'s\",'as','if','this','town','has','the','power','to','suck','your','brain','right','out','of','your','head','.',\"'\",'-Patti','<','br','/><br','/>Patti','(','Christina','Ricci',')'...]\n"
          ]
        }
      ],
      "source": [
        "spacy = WordTokenizer()\n",
        "toks = first(spacy([txt]))\n",
        "print(coll_repr(toks, 30))"
      ]
    },
    {
      "cell_type": "code",
      "execution_count": null,
      "metadata": {
        "colab": {
          "base_uri": "https://localhost:8080/"
        },
        "id": "7mVxdq4pWyGe",
        "outputId": "077e8143-d191-4a2d-8a80-1398cae132f8"
      },
      "outputs": [
        {
          "output_type": "execute_result",
          "data": {
            "text/plain": [
              "(#9) ['The','U.S.','dollar','$','1','is','$','1.00','.']"
            ]
          },
          "metadata": {},
          "execution_count": 6
        }
      ],
      "source": [
        "first(spacy(['The U.S. dollar $1 is $1.00.']))"
      ]
    },
    {
      "cell_type": "code",
      "execution_count": null,
      "metadata": {
        "colab": {
          "base_uri": "https://localhost:8080/"
        },
        "id": "1VMluEYqWztW",
        "outputId": "e93e6326-90c7-4ee7-af5b-2abfe06fc106"
      },
      "outputs": [
        {
          "output_type": "stream",
          "name": "stdout",
          "text": [
            "(#464) ['xxbos','`','it',\"'s\",'as','if','this','town','has','the','power','to','suck','your','brain','right','out','of','your','head','.',\"'\",'-patti','\\n\\n','xxmaj','patti','(','christina','xxmaj','ricci',')'...]\n"
          ]
        }
      ],
      "source": [
        "tkn = Tokenizer(spacy)\n",
        "print(coll_repr(tkn(txt), 31))"
      ]
    },
    {
      "cell_type": "code",
      "execution_count": null,
      "metadata": {
        "colab": {
          "base_uri": "https://localhost:8080/"
        },
        "id": "F4ygIdbuZIlZ",
        "outputId": "74aca0f9-36b1-48cf-fbd8-60e589a92644"
      },
      "outputs": [
        {
          "output_type": "execute_result",
          "data": {
            "text/plain": [
              "[<function fastai.text.core.fix_html(x)>,\n",
              " <function fastai.text.core.replace_rep(t)>,\n",
              " <function fastai.text.core.replace_wrep(t)>,\n",
              " <function fastai.text.core.spec_add_spaces(t)>,\n",
              " <function fastai.text.core.rm_useless_spaces(t)>,\n",
              " <function fastai.text.core.replace_all_caps(t)>,\n",
              " <function fastai.text.core.replace_maj(t)>,\n",
              " <function fastai.text.core.lowercase(t, add_bos=True, add_eos=False)>]"
            ]
          },
          "metadata": {},
          "execution_count": 8
        }
      ],
      "source": [
        "defaults.text_proc_rules"
      ]
    },
    {
      "cell_type": "code",
      "execution_count": null,
      "metadata": {
        "colab": {
          "base_uri": "https://localhost:8080/",
          "height": 35
        },
        "id": "bCUAQCwnqpnP",
        "outputId": "483fa0c3-5892-454b-ad7f-2b83d3084cf4"
      },
      "outputs": [
        {
          "output_type": "execute_result",
          "data": {
            "text/plain": [
              "\"(#11) ['xxbos','©','xxmaj','fast.ai','xxrep','3','w','.fast.ai','/','xxup','index']\""
            ],
            "application/vnd.google.colaboratory.intrinsic+json": {
              "type": "string"
            }
          },
          "metadata": {},
          "execution_count": 9
        }
      ],
      "source": [
        "coll_repr(tkn('&copy; Fast.ai www.fast.ai/INDEX'), 31)"
      ]
    },
    {
      "cell_type": "code",
      "execution_count": null,
      "metadata": {
        "colab": {
          "base_uri": "https://localhost:8080/"
        },
        "id": "BZY1LASvYTVZ",
        "outputId": "0c310951-3553-48bb-814b-656291c3e373"
      },
      "outputs": [
        {
          "output_type": "execute_result",
          "data": {
            "text/plain": [
              "(#11) ['xxbos','©','xxmaj','fast.ai','xxrep','3','w','.fast.ai','/','xxup','index']"
            ]
          },
          "metadata": {},
          "execution_count": 10
        }
      ],
      "source": [
        "tkn('&copy; Fast.ai www.fast.ai/INDEX')"
      ]
    },
    {
      "cell_type": "code",
      "execution_count": null,
      "metadata": {
        "id": "ify-QyL9q3hN"
      },
      "outputs": [],
      "source": [
        "txts = L(o.open().read() for o in files[:2000])"
      ]
    },
    {
      "cell_type": "code",
      "execution_count": null,
      "metadata": {
        "colab": {
          "base_uri": "https://localhost:8080/",
          "height": 209
        },
        "id": "rtxqeFWOfh-g",
        "outputId": "8aabc8ae-9dc9-45ba-bcbc-6152f4469e84"
      },
      "outputs": [
        {
          "output_type": "execute_result",
          "data": {
            "text/plain": [
              "\"`It's as if this town has the power to suck your brain right out of your head.' -Patti<br /><br />Patti (Christina Ricci) is a sarcastic teenaged girl, bored with her all-too-average little town. Bored that is until a woman is kidnapped and she finds what she believes to be clues to the poor lady's whereabouts. Now, with the help of her precious cat `D.C.' and an inept FBI agent (Doug E. Doug) she must find her.<br /><br />That Darn Cat is a bad movie. It is quite foolish and it has humor that often falls quite flat. There are, however, a few buds of talent in it. Doug E. Doug was good in Cool Runnings. His performance as `Senga' was really funny. Here he is wasted as the bumbling FBI agent. He does have a good scene when he imitates the cat, though. Micheal Mckean plays Patti's father. His character must be the most understanding parent to ever live. This poor guy has his expensive cigar crushed, gets arrested for picking up his own cat, and gets bitched-at by his snippy wife and STILL doesn't get angry at his daughter for causing all of his troubles. I wish my old man was like that. The only real good performance is Christina Ricci's. She entertaining as the ever-annoyed Patti, but her occasional very bad dialogue pulls her performance down. You might also recognize Peter Boyle (Young Frankenstein, Everybody Loves Raymond), the old lady from Wings and Cliff from Cheers, in this movie. This is a movie that all these actors would probably like to forget. Even the cat isn't very good... I really can't recommend 1997's That Darn Cat. Some young children (under 8) might enjoy it a bit, but every one else should look elsewhere. If you're looking for a good Christina Ricci movie, I suggest Addams Family Values, The Opposite of Sex or Sleepy Hollow. If a fun family film is what you're after, try Snow Day, instead.<br /><br />\""
            ],
            "application/vnd.google.colaboratory.intrinsic+json": {
              "type": "string"
            }
          },
          "metadata": {},
          "execution_count": 12
        }
      ],
      "source": [
        "txt"
      ]
    },
    {
      "cell_type": "code",
      "execution_count": null,
      "metadata": {
        "colab": {
          "base_uri": "https://localhost:8080/",
          "height": 34
        },
        "id": "CuXZmaBXsdy7",
        "outputId": "49af9551-9065-4244-83d1-d509edc0f49f"
      },
      "outputs": [
        {
          "output_type": "display_data",
          "data": {
            "text/plain": [
              "<IPython.core.display.HTML object>"
            ],
            "text/html": [
              "\n",
              "<style>\n",
              "    /* Turns off some styling */\n",
              "    progress {\n",
              "        /* gets rid of default border in Firefox and Opera. */\n",
              "        border: none;\n",
              "        /* Needs to be in here for Safari polyfill so background images work as expected. */\n",
              "        background-size: auto;\n",
              "    }\n",
              "    progress:not([value]), progress:not([value])::-webkit-progress-bar {\n",
              "        background: repeating-linear-gradient(45deg, #7e7e7e, #7e7e7e 10px, #5c5c5c 10px, #5c5c5c 20px);\n",
              "    }\n",
              "    .progress-bar-interrupted, .progress-bar-interrupted::-webkit-progress-bar {\n",
              "        background: #F44336;\n",
              "    }\n",
              "</style>\n"
            ]
          },
          "metadata": {}
        },
        {
          "output_type": "display_data",
          "data": {
            "text/plain": [
              "<IPython.core.display.HTML object>"
            ],
            "text/html": []
          },
          "metadata": {}
        },
        {
          "output_type": "execute_result",
          "data": {
            "text/plain": [
              "{'sp_model': Path('tmp/spm.model')}"
            ]
          },
          "metadata": {},
          "execution_count": 13
        }
      ],
      "source": [
        "sp = SubwordTokenizer(vocab_sz=129)\n",
        "sp.setup(txts)"
      ]
    },
    {
      "cell_type": "code",
      "execution_count": null,
      "metadata": {
        "colab": {
          "base_uri": "https://localhost:8080/"
        },
        "id": "1AYHTNTrn9x5",
        "outputId": "0ad2a633-91e6-4fd3-9ad5-73dd95fa227d"
      },
      "outputs": [
        {
          "output_type": "stream",
          "name": "stdout",
          "text": [
            "Chosen Subwords:\n",
            "ID: 0, Subword: ▁xxunk\n",
            "ID: 1, Subword: ▁xxpad\n",
            "ID: 2, Subword: ▁xxbos\n",
            "ID: 3, Subword: ▁xxeos\n",
            "ID: 4, Subword: ▁xxfld\n",
            "ID: 5, Subword: ▁xxrep\n",
            "ID: 6, Subword: ▁xxwrep\n",
            "ID: 7, Subword: ▁xxup\n",
            "ID: 8, Subword: ▁xxmaj\n",
            "ID: 9, Subword: <unk>\n",
            "ID: 10, Subword: ▁\n",
            "ID: 11, Subword: e\n",
            "ID: 12, Subword: s\n",
            "ID: 13, Subword: t\n",
            "ID: 14, Subword: o\n",
            "ID: 15, Subword: i\n",
            "ID: 16, Subword: a\n",
            "ID: 17, Subword: d\n",
            "ID: 18, Subword: u\n",
            "ID: 19, Subword: c\n",
            "ID: 20, Subword: r\n",
            "ID: 21, Subword: n\n",
            "ID: 22, Subword: l\n",
            "ID: 23, Subword: p\n",
            "ID: 24, Subword: h\n",
            "ID: 25, Subword: m\n",
            "ID: 26, Subword: y\n",
            "ID: 27, Subword: b\n",
            "ID: 28, Subword: ▁the\n",
            "ID: 29, Subword: .\n",
            "ID: 30, Subword: f\n",
            "ID: 31, Subword: ▁a\n",
            "ID: 32, Subword: g\n",
            "ID: 33, Subword: ,\n",
            "ID: 34, Subword: in\n",
            "ID: 35, Subword: re\n",
            "ID: 36, Subword: er\n",
            "ID: 37, Subword: on\n",
            "ID: 38, Subword: or\n",
            "ID: 39, Subword: ing\n",
            "ID: 40, Subword: en\n",
            "ID: 41, Subword: k\n",
            "ID: 42, Subword: ▁w\n",
            "ID: 43, Subword: an\n",
            "ID: 44, Subword: w\n",
            "ID: 45, Subword: v\n",
            "ID: 46, Subword: '\n",
            "ID: 47, Subword: T\n",
            "ID: 48, Subword: <\n",
            "ID: 49, Subword: \"\n",
            "ID: 50, Subword: -\n",
            "ID: 51, Subword: A\n",
            "ID: 52, Subword: S\n",
            "ID: 53, Subword: M\n",
            "ID: 54, Subword: x\n",
            "ID: 55, Subword: B\n",
            "ID: 56, Subword: H\n",
            "ID: 57, Subword: C\n",
            "ID: 58, Subword: D\n",
            "ID: 59, Subword: W\n",
            "ID: 60, Subword: )\n",
            "ID: 61, Subword: E\n",
            "ID: 62, Subword: (\n",
            "ID: 63, Subword: O\n",
            "ID: 64, Subword: N\n",
            "ID: 65, Subword: R\n",
            "ID: 66, Subword: I\n",
            "ID: 67, Subword: L\n",
            "ID: 68, Subword: !\n",
            "ID: 69, Subword: G\n",
            "ID: 70, Subword: P\n",
            "ID: 71, Subword: F\n",
            "ID: 72, Subword: ?\n",
            "ID: 73, Subword: j\n",
            "ID: 74, Subword: 0\n",
            "ID: 75, Subword: 1\n",
            "ID: 76, Subword: J\n",
            "ID: 77, Subword: z\n",
            "ID: 78, Subword: V\n",
            "ID: 79, Subword: K\n",
            "ID: 80, Subword: Y\n",
            "ID: 81, Subword: :\n",
            "ID: 82, Subword: U\n",
            "ID: 83, Subword: 2\n",
            "ID: 84, Subword: 9\n",
            "ID: 85, Subword: *\n",
            "ID: 86, Subword: /\n",
            "ID: 87, Subword: ;\n",
            "ID: 88, Subword: 3\n",
            "ID: 89, Subword: 5\n",
            "ID: 90, Subword: 4\n",
            "ID: 91, Subword: 8\n",
            "ID: 92, Subword: &\n",
            "ID: 93, Subword: 7\n",
            "ID: 94, Subword: 6\n",
            "ID: 95, Subword: Z\n",
            "ID: 96, Subword: é\n",
            "ID: 97, Subword: Q\n",
            "ID: 98, Subword: $\n",
            "ID: 99, Subword: `\n",
            "ID: 100, Subword: X\n",
            "ID: 101, Subword: \n",
            "ID: 102, Subword: %\n",
            "ID: 103, Subword: \n",
            "ID: 104, Subword: +\n",
            "ID: 105, Subword: @\n",
            "ID: 106, Subword: _\n",
            "ID: 107, Subword: =\n",
            "ID: 108, Subword: ~\n",
            "ID: 109, Subword: ’\n",
            "ID: 110, Subword: –\n",
            "ID: 111, Subword: >\n",
            "ID: 112, Subword: ^\n",
            "ID: 113, Subword: ]\n",
            "ID: 114, Subword: í\n",
            "ID: 115, Subword: ê\n",
            "ID: 116, Subword: ã\n",
            "ID: 117, Subword: å\n",
            "ID: 118, Subword: à\n",
            "ID: 119, Subword: £\n",
            "ID: 120, Subword: \n",
            "ID: 121, Subword: \n",
            "ID: 122, Subword: ́\n",
            "ID: 123, Subword: ·\n",
            "ID: 124, Subword: [\n",
            "ID: 125, Subword: #\n",
            "ID: 126, Subword: \n",
            "ID: 127, Subword: q\n",
            "ID: 128, Subword: Æ\n"
          ]
        }
      ],
      "source": [
        "vocab_size = sp.tok.vocab_size()\n",
        "\n",
        "# Print the subwords in the vocabulary\n",
        "print(\"Chosen Subwords:\")\n",
        "for i in range(vocab_size):\n",
        "    subword = sp.tok.IdToPiece(i)\n",
        "    print(f\"ID: {i}, Subword: {subword}\")"
      ]
    },
    {
      "cell_type": "code",
      "execution_count": null,
      "metadata": {
        "colab": {
          "base_uri": "https://localhost:8080/"
        },
        "id": "sR3qS50wmQNS",
        "outputId": "5967c52b-9e0a-49cc-a1ab-281dce61bdef"
      },
      "outputs": [
        {
          "output_type": "execute_result",
          "data": {
            "text/plain": [
              "2000"
            ]
          },
          "metadata": {},
          "execution_count": 15
        }
      ],
      "source": [
        "len(txts)"
      ]
    },
    {
      "cell_type": "code",
      "execution_count": null,
      "metadata": {
        "colab": {
          "base_uri": "https://localhost:8080/"
        },
        "id": "3ErQKmaLbeSb",
        "outputId": "310953be-a895-48c8-9efe-0fa472b09764"
      },
      "outputs": [
        {
          "output_type": "execute_result",
          "data": {
            "text/plain": [
              "[['▁',\n",
              "  '`',\n",
              "  'I',\n",
              "  't',\n",
              "  \"'\",\n",
              "  's',\n",
              "  '▁a',\n",
              "  's',\n",
              "  '▁',\n",
              "  'i',\n",
              "  'f',\n",
              "  '▁',\n",
              "  't',\n",
              "  'h',\n",
              "  'i',\n",
              "  's',\n",
              "  '▁',\n",
              "  't',\n",
              "  'o',\n",
              "  'w',\n",
              "  'n',\n",
              "  '▁',\n",
              "  'h',\n",
              "  'a',\n",
              "  's',\n",
              "  '▁the',\n",
              "  '▁',\n",
              "  'p',\n",
              "  'o',\n",
              "  'w',\n",
              "  'er',\n",
              "  '▁',\n",
              "  't',\n",
              "  'o',\n",
              "  '▁',\n",
              "  's',\n",
              "  'u',\n",
              "  'c',\n",
              "  'k',\n",
              "  '▁',\n",
              "  'y',\n",
              "  'o',\n",
              "  'u',\n",
              "  'r',\n",
              "  '▁',\n",
              "  'b',\n",
              "  'r',\n",
              "  'a',\n",
              "  'in',\n",
              "  '▁',\n",
              "  'r',\n",
              "  'i',\n",
              "  'g',\n",
              "  'h',\n",
              "  't',\n",
              "  '▁',\n",
              "  'o',\n",
              "  'u',\n",
              "  't',\n",
              "  '▁',\n",
              "  'o',\n",
              "  'f',\n",
              "  '▁',\n",
              "  'y',\n",
              "  'o',\n",
              "  'u',\n",
              "  'r',\n",
              "  '▁',\n",
              "  'h',\n",
              "  'e',\n",
              "  'a',\n",
              "  'd',\n",
              "  '.',\n",
              "  \"'\",\n",
              "  '▁',\n",
              "  '-',\n",
              "  'P',\n",
              "  'a',\n",
              "  't',\n",
              "  't',\n",
              "  'i',\n",
              "  '<',\n",
              "  'b',\n",
              "  'r',\n",
              "  '▁',\n",
              "  '/',\n",
              "  '>',\n",
              "  '<',\n",
              "  'b',\n",
              "  'r',\n",
              "  '▁',\n",
              "  '/',\n",
              "  '>',\n",
              "  'P',\n",
              "  'a',\n",
              "  't',\n",
              "  't',\n",
              "  'i',\n",
              "  '▁',\n",
              "  '(',\n",
              "  'C',\n",
              "  'h',\n",
              "  'r',\n",
              "  'i',\n",
              "  's',\n",
              "  't',\n",
              "  'in',\n",
              "  'a',\n",
              "  '▁',\n",
              "  'R',\n",
              "  'i',\n",
              "  'c',\n",
              "  'c',\n",
              "  'i',\n",
              "  ')',\n",
              "  '▁',\n",
              "  'i',\n",
              "  's',\n",
              "  '▁a',\n",
              "  '▁',\n",
              "  's',\n",
              "  'a',\n",
              "  'r',\n",
              "  'c',\n",
              "  'a',\n",
              "  's',\n",
              "  't',\n",
              "  'i',\n",
              "  'c',\n",
              "  '▁',\n",
              "  't',\n",
              "  'e',\n",
              "  'en',\n",
              "  'a',\n",
              "  'g',\n",
              "  'e',\n",
              "  'd',\n",
              "  '▁',\n",
              "  'g',\n",
              "  'i',\n",
              "  'r',\n",
              "  'l',\n",
              "  ',',\n",
              "  '▁',\n",
              "  'b',\n",
              "  'or',\n",
              "  'e',\n",
              "  'd',\n",
              "  '▁w',\n",
              "  'i',\n",
              "  't',\n",
              "  'h',\n",
              "  '▁',\n",
              "  'h',\n",
              "  'er',\n",
              "  '▁a',\n",
              "  'l',\n",
              "  'l',\n",
              "  '-',\n",
              "  't',\n",
              "  'o',\n",
              "  'o',\n",
              "  '-',\n",
              "  'a',\n",
              "  'v',\n",
              "  'er',\n",
              "  'a',\n",
              "  'g',\n",
              "  'e',\n",
              "  '▁',\n",
              "  'l',\n",
              "  'i',\n",
              "  't',\n",
              "  't',\n",
              "  'l',\n",
              "  'e',\n",
              "  '▁',\n",
              "  't',\n",
              "  'o',\n",
              "  'w',\n",
              "  'n',\n",
              "  '.',\n",
              "  '▁',\n",
              "  'B',\n",
              "  'or',\n",
              "  'e',\n",
              "  'd',\n",
              "  '▁',\n",
              "  't',\n",
              "  'h',\n",
              "  'a',\n",
              "  't',\n",
              "  '▁',\n",
              "  'i',\n",
              "  's',\n",
              "  '▁',\n",
              "  'u',\n",
              "  'n',\n",
              "  't',\n",
              "  'i',\n",
              "  'l',\n",
              "  '▁a',\n",
              "  '▁w',\n",
              "  'o',\n",
              "  'm',\n",
              "  'an',\n",
              "  '▁',\n",
              "  'i',\n",
              "  's',\n",
              "  '▁',\n",
              "  'k',\n",
              "  'i',\n",
              "  'd',\n",
              "  'n',\n",
              "  'a',\n",
              "  'p',\n",
              "  'p',\n",
              "  'e',\n",
              "  'd',\n",
              "  '▁',\n",
              "  'an',\n",
              "  'd',\n",
              "  '▁',\n",
              "  's',\n",
              "  'h',\n",
              "  'e',\n",
              "  '▁',\n",
              "  'f',\n",
              "  'in',\n",
              "  'd',\n",
              "  's',\n",
              "  '▁w',\n",
              "  'h',\n",
              "  'a',\n",
              "  't',\n",
              "  '▁',\n",
              "  's',\n",
              "  'h',\n",
              "  'e',\n",
              "  '▁',\n",
              "  'b',\n",
              "  'e',\n",
              "  'l',\n",
              "  'i',\n",
              "  'e',\n",
              "  'v',\n",
              "  'e',\n",
              "  's',\n",
              "  '▁',\n",
              "  't',\n",
              "  'o',\n",
              "  '▁',\n",
              "  'b',\n",
              "  'e',\n",
              "  '▁',\n",
              "  'c',\n",
              "  'l',\n",
              "  'u',\n",
              "  'e',\n",
              "  's',\n",
              "  '▁',\n",
              "  't',\n",
              "  'o',\n",
              "  '▁the',\n",
              "  '▁',\n",
              "  'p',\n",
              "  'o',\n",
              "  'or',\n",
              "  '▁',\n",
              "  'l',\n",
              "  'a',\n",
              "  'd',\n",
              "  'y',\n",
              "  \"'\",\n",
              "  's',\n",
              "  '▁w',\n",
              "  'h',\n",
              "  'e',\n",
              "  're',\n",
              "  'a',\n",
              "  'b',\n",
              "  'o',\n",
              "  'u',\n",
              "  't',\n",
              "  's',\n",
              "  '.',\n",
              "  '▁',\n",
              "  'N',\n",
              "  'o',\n",
              "  'w',\n",
              "  ',',\n",
              "  '▁w',\n",
              "  'i',\n",
              "  't',\n",
              "  'h',\n",
              "  '▁the',\n",
              "  '▁',\n",
              "  'h',\n",
              "  'e',\n",
              "  'l',\n",
              "  'p',\n",
              "  '▁',\n",
              "  'o',\n",
              "  'f',\n",
              "  '▁',\n",
              "  'h',\n",
              "  'er',\n",
              "  '▁',\n",
              "  'p',\n",
              "  're',\n",
              "  'c',\n",
              "  'i',\n",
              "  'o',\n",
              "  'u',\n",
              "  's',\n",
              "  '▁',\n",
              "  'c',\n",
              "  'a',\n",
              "  't',\n",
              "  '▁',\n",
              "  '`',\n",
              "  'D',\n",
              "  '.',\n",
              "  'C',\n",
              "  '.',\n",
              "  \"'\",\n",
              "  '▁',\n",
              "  'an',\n",
              "  'd',\n",
              "  '▁',\n",
              "  'an',\n",
              "  '▁',\n",
              "  'in',\n",
              "  'e',\n",
              "  'p',\n",
              "  't',\n",
              "  '▁',\n",
              "  'F',\n",
              "  'B',\n",
              "  'I',\n",
              "  '▁a',\n",
              "  'g',\n",
              "  'en',\n",
              "  't',\n",
              "  '▁',\n",
              "  '(',\n",
              "  'D',\n",
              "  'o',\n",
              "  'u',\n",
              "  'g',\n",
              "  '▁',\n",
              "  'E',\n",
              "  '.',\n",
              "  '▁',\n",
              "  'D',\n",
              "  'o',\n",
              "  'u',\n",
              "  'g',\n",
              "  ')',\n",
              "  '▁',\n",
              "  's',\n",
              "  'h',\n",
              "  'e',\n",
              "  '▁',\n",
              "  'm',\n",
              "  'u',\n",
              "  's',\n",
              "  't',\n",
              "  '▁',\n",
              "  'f',\n",
              "  'in',\n",
              "  'd',\n",
              "  '▁',\n",
              "  'h',\n",
              "  'er',\n",
              "  '.',\n",
              "  '<',\n",
              "  'b',\n",
              "  'r',\n",
              "  '▁',\n",
              "  '/',\n",
              "  '>',\n",
              "  '<',\n",
              "  'b',\n",
              "  'r',\n",
              "  '▁',\n",
              "  '/',\n",
              "  '>',\n",
              "  'T',\n",
              "  'h',\n",
              "  'a',\n",
              "  't',\n",
              "  '▁',\n",
              "  'D',\n",
              "  'a',\n",
              "  'r',\n",
              "  'n',\n",
              "  '▁',\n",
              "  'C',\n",
              "  'a',\n",
              "  't',\n",
              "  '▁',\n",
              "  'i',\n",
              "  's',\n",
              "  '▁a',\n",
              "  '▁',\n",
              "  'b',\n",
              "  'a',\n",
              "  'd',\n",
              "  '▁',\n",
              "  'm',\n",
              "  'o',\n",
              "  'v',\n",
              "  'i',\n",
              "  'e',\n",
              "  '.',\n",
              "  '▁',\n",
              "  'I',\n",
              "  't',\n",
              "  '▁',\n",
              "  'i',\n",
              "  's',\n",
              "  '▁',\n",
              "  'q',\n",
              "  'u',\n",
              "  'i',\n",
              "  't',\n",
              "  'e',\n",
              "  '▁',\n",
              "  'f',\n",
              "  'o',\n",
              "  'o',\n",
              "  'l',\n",
              "  'i',\n",
              "  's',\n",
              "  'h',\n",
              "  '▁',\n",
              "  'an',\n",
              "  'd',\n",
              "  '▁',\n",
              "  'i',\n",
              "  't',\n",
              "  '▁',\n",
              "  'h',\n",
              "  'a',\n",
              "  's',\n",
              "  '▁',\n",
              "  'h',\n",
              "  'u',\n",
              "  'm',\n",
              "  'or',\n",
              "  '▁',\n",
              "  't',\n",
              "  'h',\n",
              "  'a',\n",
              "  't',\n",
              "  '▁',\n",
              "  'o',\n",
              "  'f',\n",
              "  't',\n",
              "  'en',\n",
              "  '▁',\n",
              "  'f',\n",
              "  'a',\n",
              "  'l',\n",
              "  'l',\n",
              "  's',\n",
              "  '▁',\n",
              "  'q',\n",
              "  'u',\n",
              "  'i',\n",
              "  't',\n",
              "  'e',\n",
              "  '▁',\n",
              "  'f',\n",
              "  'l',\n",
              "  'a',\n",
              "  't',\n",
              "  '.',\n",
              "  '▁',\n",
              "  'T',\n",
              "  'h',\n",
              "  'e',\n",
              "  're',\n",
              "  '▁a',\n",
              "  're',\n",
              "  ',',\n",
              "  '▁',\n",
              "  'h',\n",
              "  'o',\n",
              "  'w',\n",
              "  'e',\n",
              "  'v',\n",
              "  'er',\n",
              "  ',',\n",
              "  '▁a',\n",
              "  '▁',\n",
              "  'f',\n",
              "  'e',\n",
              "  'w',\n",
              "  '▁',\n",
              "  'b',\n",
              "  'u',\n",
              "  'd',\n",
              "  's',\n",
              "  '▁',\n",
              "  'o',\n",
              "  'f',\n",
              "  '▁',\n",
              "  't',\n",
              "  'a',\n",
              "  'l',\n",
              "  'en',\n",
              "  't',\n",
              "  '▁',\n",
              "  'in',\n",
              "  '▁',\n",
              "  'i',\n",
              "  't',\n",
              "  '.',\n",
              "  '▁',\n",
              "  'D',\n",
              "  'o',\n",
              "  'u',\n",
              "  'g',\n",
              "  '▁',\n",
              "  'E',\n",
              "  '.',\n",
              "  '▁',\n",
              "  'D',\n",
              "  'o',\n",
              "  'u',\n",
              "  'g',\n",
              "  '▁w',\n",
              "  'a',\n",
              "  's',\n",
              "  '▁',\n",
              "  'g',\n",
              "  'o',\n",
              "  'o',\n",
              "  'd',\n",
              "  '▁',\n",
              "  'in',\n",
              "  '▁',\n",
              "  'C',\n",
              "  'o',\n",
              "  'o',\n",
              "  'l',\n",
              "  '▁',\n",
              "  'R',\n",
              "  'u',\n",
              "  'n',\n",
              "  'n',\n",
              "  'ing',\n",
              "  's',\n",
              "  '.',\n",
              "  '▁',\n",
              "  'H',\n",
              "  'i',\n",
              "  's',\n",
              "  '▁',\n",
              "  'p',\n",
              "  'er',\n",
              "  'f',\n",
              "  'or',\n",
              "  'm',\n",
              "  'an',\n",
              "  'c',\n",
              "  'e',\n",
              "  '▁a',\n",
              "  's',\n",
              "  '▁',\n",
              "  '`',\n",
              "  'S',\n",
              "  'en',\n",
              "  'g',\n",
              "  'a',\n",
              "  \"'\",\n",
              "  '▁w',\n",
              "  'a',\n",
              "  's',\n",
              "  '▁',\n",
              "  're',\n",
              "  'a',\n",
              "  'l',\n",
              "  'l',\n",
              "  'y',\n",
              "  '▁',\n",
              "  'f',\n",
              "  'u',\n",
              "  'n',\n",
              "  'n',\n",
              "  'y',\n",
              "  '.',\n",
              "  '▁',\n",
              "  'H',\n",
              "  'e',\n",
              "  're',\n",
              "  '▁',\n",
              "  'h',\n",
              "  'e',\n",
              "  '▁',\n",
              "  'i',\n",
              "  's',\n",
              "  '▁w',\n",
              "  'a',\n",
              "  's',\n",
              "  't',\n",
              "  'e',\n",
              "  'd',\n",
              "  '▁a',\n",
              "  's',\n",
              "  '▁the',\n",
              "  '▁',\n",
              "  'b',\n",
              "  'u',\n",
              "  'm',\n",
              "  'b',\n",
              "  'l',\n",
              "  'ing',\n",
              "  '▁',\n",
              "  'F',\n",
              "  'B',\n",
              "  'I',\n",
              "  '▁a',\n",
              "  'g',\n",
              "  'en',\n",
              "  't',\n",
              "  '.',\n",
              "  '▁',\n",
              "  'H',\n",
              "  'e',\n",
              "  '▁',\n",
              "  'd',\n",
              "  'o',\n",
              "  'e',\n",
              "  's',\n",
              "  '▁',\n",
              "  'h',\n",
              "  'a',\n",
              "  'v',\n",
              "  'e',\n",
              "  '▁a',\n",
              "  '▁',\n",
              "  'g',\n",
              "  'o',\n",
              "  'o',\n",
              "  'd',\n",
              "  '▁',\n",
              "  's',\n",
              "  'c',\n",
              "  'en',\n",
              "  'e',\n",
              "  '▁w',\n",
              "  'h',\n",
              "  'en',\n",
              "  '▁',\n",
              "  'h',\n",
              "  'e',\n",
              "  '▁',\n",
              "  'i',\n",
              "  'm',\n",
              "  'i',\n",
              "  't',\n",
              "  'a',\n",
              "  't',\n",
              "  'e',\n",
              "  's',\n",
              "  '▁the',\n",
              "  '▁',\n",
              "  'c',\n",
              "  'a',\n",
              "  't',\n",
              "  ',',\n",
              "  '▁',\n",
              "  't',\n",
              "  'h',\n",
              "  'o',\n",
              "  'u',\n",
              "  'g',\n",
              "  'h',\n",
              "  '.',\n",
              "  '▁',\n",
              "  'M',\n",
              "  'i',\n",
              "  'c',\n",
              "  'h',\n",
              "  'e',\n",
              "  'a',\n",
              "  'l',\n",
              "  '▁',\n",
              "  'M',\n",
              "  'c',\n",
              "  'k',\n",
              "  'e',\n",
              "  'an',\n",
              "  '▁',\n",
              "  'p',\n",
              "  'l',\n",
              "  'a',\n",
              "  'y',\n",
              "  's',\n",
              "  '▁',\n",
              "  'P',\n",
              "  'a',\n",
              "  't',\n",
              "  't',\n",
              "  'i',\n",
              "  \"'\",\n",
              "  's',\n",
              "  '▁',\n",
              "  'f',\n",
              "  'a',\n",
              "  't',\n",
              "  'h',\n",
              "  'er',\n",
              "  '.',\n",
              "  '▁',\n",
              "  'H',\n",
              "  'i',\n",
              "  's',\n",
              "  '▁',\n",
              "  'c',\n",
              "  'h',\n",
              "  'a',\n",
              "  'r',\n",
              "  'a',\n",
              "  'c',\n",
              "  't',\n",
              "  'er',\n",
              "  '▁',\n",
              "  'm',\n",
              "  'u',\n",
              "  's',\n",
              "  't',\n",
              "  '▁',\n",
              "  'b',\n",
              "  'e',\n",
              "  '▁the',\n",
              "  '▁',\n",
              "  'm',\n",
              "  'o',\n",
              "  's',\n",
              "  't',\n",
              "  '▁',\n",
              "  'u',\n",
              "  'n',\n",
              "  'd',\n",
              "  'er',\n",
              "  's',\n",
              "  't',\n",
              "  'an',\n",
              "  'd',\n",
              "  'ing',\n",
              "  '▁',\n",
              "  'p',\n",
              "  'a',\n",
              "  're',\n",
              "  'n',\n",
              "  't',\n",
              "  '▁',\n",
              "  't',\n",
              "  'o',\n",
              "  '▁',\n",
              "  'e',\n",
              "  'v',\n",
              "  'er',\n",
              "  '▁',\n",
              "  'l',\n",
              "  'i',\n",
              "  'v',\n",
              "  'e',\n",
              "  '.',\n",
              "  '▁',\n",
              "  'T',\n",
              "  'h',\n",
              "  'i',\n",
              "  's',\n",
              "  '▁',\n",
              "  'p',\n",
              "  'o',\n",
              "  'or',\n",
              "  '▁',\n",
              "  'g',\n",
              "  'u',\n",
              "  'y',\n",
              "  '▁',\n",
              "  'h',\n",
              "  'a',\n",
              "  's',\n",
              "  '▁',\n",
              "  'h',\n",
              "  'i',\n",
              "  's',\n",
              "  '▁',\n",
              "  'e',\n",
              "  'x',\n",
              "  'p',\n",
              "  'en',\n",
              "  's',\n",
              "  'i',\n",
              "  'v',\n",
              "  'e',\n",
              "  '▁',\n",
              "  'c',\n",
              "  'i',\n",
              "  'g',\n",
              "  'a',\n",
              "  'r',\n",
              "  '▁',\n",
              "  'c',\n",
              "  'r',\n",
              "  'u',\n",
              "  's',\n",
              "  'h',\n",
              "  'e',\n",
              "  'd',\n",
              "  ',',\n",
              "  '▁',\n",
              "  'g',\n",
              "  'e',\n",
              "  't',\n",
              "  's',\n",
              "  '▁a',\n",
              "  'r',\n",
              "  're',\n",
              "  's',\n",
              "  't',\n",
              "  'e',\n",
              "  'd',\n",
              "  '▁',\n",
              "  'f',\n",
              "  'or',\n",
              "  '▁',\n",
              "  'p',\n",
              "  'i',\n",
              "  'c',\n",
              "  'k',\n",
              "  'ing',\n",
              "  '▁',\n",
              "  'u',\n",
              "  'p',\n",
              "  '▁',\n",
              "  'h',\n",
              "  'i',\n",
              "  's',\n",
              "  '▁',\n",
              "  'o',\n",
              "  'w',\n",
              "  'n',\n",
              "  '▁',\n",
              "  'c',\n",
              "  'a',\n",
              "  't',\n",
              "  ',',\n",
              "  '▁',\n",
              "  'an',\n",
              "  'd',\n",
              "  '▁',\n",
              "  'g',\n",
              "  'e',\n",
              "  't',\n",
              "  's',\n",
              "  '▁',\n",
              "  'b',\n",
              "  'i',\n",
              "  't',\n",
              "  'c',\n",
              "  'h',\n",
              "  'e',\n",
              "  'd',\n",
              "  '-',\n",
              "  'a',\n",
              "  't',\n",
              "  '▁',\n",
              "  'b',\n",
              "  'y',\n",
              "  '▁',\n",
              "  'h',\n",
              "  'i',\n",
              "  's',\n",
              "  '▁',\n",
              "  's',\n",
              "  'n',\n",
              "  'i',\n",
              "  'p',\n",
              "  'p',\n",
              "  'y',\n",
              "  '▁w',\n",
              "  'i',\n",
              "  'f',\n",
              "  'e',\n",
              "  '▁',\n",
              "  'an',\n",
              "  'd',\n",
              "  '▁',\n",
              "  'S',\n",
              "  'T',\n",
              "  'I',\n",
              "  'L',\n",
              "  'L',\n",
              "  '▁',\n",
              "  'd',\n",
              "  'o',\n",
              "  'e',\n",
              "  's',\n",
              "  'n',\n",
              "  \"'\",\n",
              "  't',\n",
              "  '▁',\n",
              "  'g',\n",
              "  'e',\n",
              "  't',\n",
              "  '▁',\n",
              "  'an',\n",
              "  'g',\n",
              "  'r',\n",
              "  'y',\n",
              "  '▁a',\n",
              "  't',\n",
              "  '▁',\n",
              "  'h',\n",
              "  'i',\n",
              "  's',\n",
              "  '▁',\n",
              "  'd',\n",
              "  'a',\n",
              "  'u',\n",
              "  'g',\n",
              "  'h',\n",
              "  't',\n",
              "  'er',\n",
              "  '▁',\n",
              "  'f',\n",
              "  'or',\n",
              "  '▁',\n",
              "  'c',\n",
              "  'a',\n",
              "  'u',\n",
              "  's',\n",
              "  'ing',\n",
              "  '▁a',\n",
              "  'l',\n",
              "  'l',\n",
              "  '▁',\n",
              "  'o',\n",
              "  'f',\n",
              "  '▁',\n",
              "  'h',\n",
              "  'i',\n",
              "  's',\n",
              "  '▁',\n",
              "  't',\n",
              "  'r',\n",
              "  'o',\n",
              "  'u',\n",
              "  'b',\n",
              "  'l',\n",
              "  'e',\n",
              "  's',\n",
              "  '.',\n",
              "  '▁',\n",
              "  'I',\n",
              "  '▁w',\n",
              "  'i',\n",
              "  's',\n",
              "  'h',\n",
              "  '▁',\n",
              "  'm',\n",
              "  'y',\n",
              "  '▁',\n",
              "  'o',\n",
              "  'l',\n",
              "  'd',\n",
              "  '▁',\n",
              "  'm',\n",
              "  'an',\n",
              "  '▁w',\n",
              "  'a',\n",
              "  's',\n",
              "  '▁',\n",
              "  'l',\n",
              "  'i',\n",
              "  'k',\n",
              "  'e',\n",
              "  '▁',\n",
              "  't',\n",
              "  'h',\n",
              "  'a',\n",
              "  't',\n",
              "  '.',\n",
              "  '▁',\n",
              "  'T',\n",
              "  'h',\n",
              "  'e',\n",
              "  '▁',\n",
              "  'on',\n",
              "  'l',\n",
              "  'y',\n",
              "  '▁',\n",
              "  ...]]"
            ]
          },
          "metadata": {},
          "execution_count": 16
        }
      ],
      "source": [
        "sp_result = list(sp([txt]))\n",
        "sp_result"
      ]
    },
    {
      "cell_type": "code",
      "execution_count": null,
      "metadata": {
        "colab": {
          "base_uri": "https://localhost:8080/"
        },
        "id": "Vm5744nXbeXS",
        "outputId": "7774a811-3d5f-4342-9feb-f8d379cff628"
      },
      "outputs": [
        {
          "output_type": "execute_result",
          "data": {
            "text/plain": [
              "1663"
            ]
          },
          "metadata": {},
          "execution_count": 17
        }
      ],
      "source": [
        "len(sp_result[0])"
      ]
    },
    {
      "cell_type": "code",
      "execution_count": null,
      "metadata": {
        "colab": {
          "base_uri": "https://localhost:8080/"
        },
        "id": "P8m1PHS2YwkY",
        "outputId": "3f1060ba-41db-4b9a-9ebd-69f7cc8a98b2"
      },
      "outputs": [
        {
          "output_type": "execute_result",
          "data": {
            "text/plain": [
              "263749"
            ]
          },
          "metadata": {},
          "execution_count": 18
        }
      ],
      "source": [
        "sumation_of_tokens = sum([len(o) for o in txts[:200]])\n",
        "sumation_of_tokens"
      ]
    },
    {
      "cell_type": "code",
      "execution_count": null,
      "metadata": {
        "colab": {
          "base_uri": "https://localhost:8080/"
        },
        "id": "k7x4z3i0sgE4",
        "outputId": "a56d564b-2770-4e5e-d2cb-395b4fd80ecf"
      },
      "outputs": [
        {
          "output_type": "execute_result",
          "data": {
            "text/plain": [
              "(#464) ['xxbos','`','it',\"'s\",'as','if','this','town','has','the','power','to','suck','your','brain','right','out','of','your','head'...]"
            ]
          },
          "metadata": {},
          "execution_count": 19
        }
      ],
      "source": [
        "toks200 = txts[:200].map(tkn)\n",
        "toks200[0]"
      ]
    },
    {
      "cell_type": "code",
      "execution_count": null,
      "metadata": {
        "colab": {
          "base_uri": "https://localhost:8080/"
        },
        "id": "9xJE_h-y8jHT",
        "outputId": "f4e603f0-4c2d-4144-8cab-7dce44d63dfe"
      },
      "outputs": [
        {
          "output_type": "execute_result",
          "data": {
            "text/plain": [
              "200"
            ]
          },
          "metadata": {},
          "execution_count": 20
        }
      ],
      "source": [
        "len(toks200)"
      ]
    },
    {
      "cell_type": "code",
      "execution_count": null,
      "metadata": {
        "colab": {
          "base_uri": "https://localhost:8080/"
        },
        "id": "NbVfFkFxAr5e",
        "outputId": "3a54c1e8-2840-4464-8cc4-886cb2aded6a"
      },
      "outputs": [
        {
          "output_type": "execute_result",
          "data": {
            "text/plain": [
              "464"
            ]
          },
          "metadata": {},
          "execution_count": 21
        }
      ],
      "source": [
        "len(toks200[0])"
      ]
    },
    {
      "cell_type": "code",
      "execution_count": null,
      "metadata": {
        "colab": {
          "base_uri": "https://localhost:8080/"
        },
        "id": "gL8_Evq_BINB",
        "outputId": "0b0f989c-8896-48bd-fe27-5f923f9efc58"
      },
      "outputs": [
        {
          "output_type": "execute_result",
          "data": {
            "text/plain": [
              "60532"
            ]
          },
          "metadata": {},
          "execution_count": 22
        }
      ],
      "source": [
        "sumation_of_tokens = sum([len(o) for o in toks200])\n",
        "sumation_of_tokens"
      ]
    },
    {
      "cell_type": "code",
      "execution_count": null,
      "metadata": {
        "id": "g6LBT3POxb4y"
      },
      "outputs": [],
      "source": [
        "num = Numericalize()\n",
        "num.setup(toks200)"
      ]
    },
    {
      "cell_type": "code",
      "execution_count": null,
      "metadata": {
        "colab": {
          "base_uri": "https://localhost:8080/"
        },
        "id": "9jyPg2jZx9j6",
        "outputId": "201d3afe-24fa-4dc4-b130-49fbb013eb92"
      },
      "outputs": [
        {
          "output_type": "execute_result",
          "data": {
            "text/plain": [
              "(#20) [TensorText([   2,  996,   18,   23,   33,   51,   19,  467,   70,    9,  748,\n",
              "              15,  852,  107,  997,  279,   62,   14,  107,  407,   10,   67,\n",
              "               0,   27,    8, 1488,   36,  998,    8, 1175,   35,   16,   12,\n",
              "               0,    0,  367,   11,  596,   29,   63,   42,   24,  125,   24,\n",
              "             749,  115,  467,   10,    8,  596,   21,   16,  368,   12,  369,\n",
              "              16, 1489,   13,   65,  468,   68,   65, 1490,   15,   43, 1491,\n",
              "              15,    9,  325,  750,   23,    0,   10,    8,  138,   11,   29,\n",
              "               9,  309,   14,   63, 1176,  408,  996,    0,   10,   67,   13,\n",
              "              53, 1492,    7, 1493, 1177,   36,  853,    7, 1494,    8,  853,\n",
              "              35,   65,  234,  217,   63,   10,   27,    8,   21,    8,    0,\n",
              "               8,  408,   16,   12,   71,   26,   10,    8,   18,   16,  220,\n",
              "            1495,   13,   18,   70,  854,   21,  546,  435,  220,  751,   10,\n",
              "               8,   58,   39,   11,  248,   11,   12,  183,    0,   14,  662,\n",
              "              20,   18,   10,    8,  853,    7, 1494,    8,  853,   25,   81,\n",
              "              20,    8,  498,    8,    0,   10,    8,   48,  547,   33,  996,\n",
              "               0,   67,   25,   85,  196,   10,    8,  136,   44,   16,  469,\n",
              "              33,    9,    0,    7, 1493, 1177,   10,    8,   44,  101,   37,\n",
              "              12,   81,  163,   66,   44,    0,    9,  408,   11,  188,   10,\n",
              "               8,    0,    8,    0,  310,    8, 1488,   23,  347,   10,    8,\n",
              "              48,  143,  234,   43,    9,  118,    0,    0,   15,  131,  383,\n",
              "              10,    8,   19,  325,  184,   70,   48, 1496,    0,    0,   11,\n",
              "             168,    0,   28,    0,   72,   48,  249,  408,   11,   13,  168,\n",
              "               0,   24,   45,   55,   48,    0,  384,   13,    7,  151,  101,\n",
              "              30,   87, 1178,   45,   48,  663,   28,    0,   42,   14,   48,\n",
              "               0,   10,   17,  548,   80,  185,  139,   25,   50,   21,   10,\n",
              "               8,    9,   75,  169,   81,  547,   16,    8,  998,    8, 1175,\n",
              "              23,   10,    8,   65,  499,   33,    9,  131,   24, 1497,    8,\n",
              "            1488,   11,   32,   63, 1498,   89,   71,  436,    0,   63,  547,\n",
              "             160,   10,    8,   31,  293,  116,    0,    8,  597,    8,    0,\n",
              "              36,  209,    8,    0,   11,    8, 1179,    8,  752,    8,    0,\n",
              "              35,   11,    9,  185,  750,   52,    8,    0,   13,    8,    0,\n",
              "              52,    8,    0,   11,   20,   19,   26,   10,    8,   19,   16,\n",
              "              12,   26,   21,   42,  161,  192,   64,  235,   50,   15,  999,\n",
              "              10,    8,   69,    9,  408,   16,   30,   89,   81,   78,   17,\n",
              "              85,  170,   30,  437, 1000,   23,    8,   21,    8,    0,    8,\n",
              "             408,   10,    8,   77,  209,  598,   36,  599,    0,  293,  470,\n",
              "              18,   12,  370,   11,   32,  221,   46,  294,  140,  173, 1001,\n",
              "              10,    8,   51,   31,  171,  230,   28,   12,   81,    8,  998,\n",
              "               8, 1175,   26,   11,   17, 1499,    8,    0,    8,  385,    8,\n",
              "            1500,   11,    8,    9,    8, 1501,   14,    8,  500,   57,    8,\n",
              "               0,    8,    0,   10,    8,   51,   12,  409,  385,   40,   16,\n",
              "              68,   31,  171,  111,   11,  269,    8, 1180,    8,  326,   11,\n",
              "             311,   10]),TensorText([   2,  855,    5,  132,  855,    5,  132,   12,   61,    8,    0,\n",
              "              61,    8,    0,   61,    8,    0,   61,    8, 1181,   61,    8,\n",
              "               0,    8,  664,   61,    8,  162,  295,   14, 1502,  131,  102,\n",
              "              10,    8,  856,   10,    8, 1503,   10,    8,  280,   10,    8,\n",
              "             197,  270,   10,    8,  665,  107, 1182,   10,    8,   47,   30,\n",
              "            1183,   10,    8,  111,  312,   19,  856,   11,    0,   11,  600,\n",
              "               0,   14,   12,   26,   11,   31,  549,   30,   43,  386,   15,\n",
              "            1183,  107,    0,   28,   12,  857,   10,    8,   32,   11,  348,\n",
              "              21,   23,   81,   10,   12,  198,    0,   70,   92, 1184,   10,\n",
              "               8,  146,   15,   94,   19,    0,    0,   40,   10,    8,   87,\n",
              "             856,   15,  107,    0,   10,    8,   13,   31,  119,   43,   49,\n",
              "             501,  128,   55,    9,  203,  666,   11,   21,   31,  170,   30,\n",
              "            1183,   28,   45,  193,   12,  857,   11,   13,   31,    0,   60,\n",
              "             858,    0,   10,   27,    8,   83,    8,   83,    8,    0,   61,\n",
              "               8,   29,   12,  550,   50,   19,   11,   18,   23,   85,  859,\n",
              "              21,   65,  101,   30,   37,   12,   22, 1185,   22,  502,  753,\n",
              "              10,    8,   65, 1186,   33,    9,  162,  754,  131,   10,    8,\n",
              "              63,  174,   97,    8,  387,    8, 1504,  173,   50,    8,  503,\n",
              "               8,   29,    8,    9,    8,    0,   10,    8,   19,   26, 1186,\n",
              "              12,    0,  204,   10]),TensorText([   2,    8,    0,    8, 1002,  349,  270,   44,   25,  151,  350,\n",
              "              95,   75,   15,   97,   81,   13,  667,  205,   10,    8,   66,\n",
              "              17,   94,   48, 1505,    0,   11,   17,   84,  222,   21,   10,\n",
              "              27,    8,    0,   16,   11,   42,   20,   42,   11,   20,    9,\n",
              "              22,   81,   22,  223,   14,    9,  438,   95,   93,   58,   39,\n",
              "              77,   81,    0,  189,   11,  755,   10,    8,    9,  192,  668,\n",
              "              39,   30,  125,   71,   10,    8,   32,    9,  122,   16,  410,\n",
              "              11,    9,   22,    0,    8,    0,  281,   70,  133,   15,   47,\n",
              "             136,   11,    9,  327,   16,   85,  756,    5,  231,  199, 1506,\n",
              "              78,   27,    8,   85,   11,    9,   75,   81,  158,   60,   18,\n",
              "              16,   21,   83,   13,   80,  351,   98,  439,   60,  105,    0,\n",
              "              18,   25,   10,   17,   69,  548,   17,  469,   80,  205,   34,\n",
              "             180,  294,   10]),TensorText([   2,   17,  371,   15,   94,   19,   40,  236,  282,   45,    9,\n",
              "               8,    0,    8,   40,    8, 1187,   20,    8,  757,   11,   33,\n",
              "              12,    0, 1507,   10,    8,   18,   25,    9,    9,  110,   76,\n",
              "               8,   17,  206,  144,   18,   11,   13,   17,  120,   18,   70,\n",
              "             138,    0,    9, 1508,   22,    0,   22,   33,    9,  162,   40,\n",
              "              17,   37,  131,  144,   10,    8,    0,   28,   73,  328,   11,\n",
              "             669,    0,   13,  313,   14, 1188,   21,    0,   52,    9,    0,\n",
              "              13,  411,   15,    9,    0,   13,    0,   11,   38,  670,    0,\n",
              "              57,    0,  860,   11,   17,   85,   47,   30,  758,  129,   19,\n",
              "              16, 1189, 1003,   11, 1509,   57,  861,   10,   17,    0,  470,\n",
              "             174,   21, 1510,    0,   57,   69,  174,   21,   39,  296,   15,\n",
              "             112,   99,   14,  113, 1511,   57, 1004, 1512,   10,    8,   32,\n",
              "              19,   25,  671,   11,  671,  218,   10]),TensorText([   2,    8,   51,   31,   39,  230,   28,   12,   26,   29,  672,\n",
              "             862,   14,    8,    0,    8,    0,   11,  121,   31,  224,  470,\n",
              "              19,   26,   10,    8,   59, 1005,  759,   15,    9,    0,   14,\n",
              "               9,    0,   10,   27,   36, 1006,    8,    0,   35,    8,  248,\n",
              "              11,   51,   31,   11,   50,   83,   11,  222,   21,  504,   39,\n",
              "            1176,   13,   38,   15,   43,  469,  121,   19,   26,  119, 1190,\n",
              "              12,   71,    0,   20,  107,  863,   10,  440,  108,    0,   11,\n",
              "             352,    8,    0,   13,   12, 1191,   14,    9,    8, 1513, 1007,\n",
              "              59,   49,   21,   46,  139,   98,  505,   15, 1192,  160,    8,\n",
              "               0,    8,    0,   10,   27,    8,    9,  673,   16, 1514,   20,\n",
              "               9,   26,   60,  601,    9,    0,   14,    9,    0,   15,  602,\n",
              "              48,  674,    0,   25,  151,  260,    9,    0,   20,  504,   11,\n",
              "              13,   44,    0,   53,    0,   22,  314,   22,   10,   27,    8,\n",
              "               9,  223,   60,    0,   16,   20,    9,  236,  858,  225,   10,\n",
              "               8,   44,    0,   28,   12,  329,   76,   11,  121,  435,    9,\n",
              "             412,   14,    9,  147,  368,   44,  388,   15,   12,  551,   20,\n",
              "               9, 1180,   10]),TensorText([   2,    8,  135,   12,  389,  390,   11,   57,   45,  193,   17,\n",
              "             120,   18,   16,   10,   31,  172,  237,   24, 1193,  864,    0,\n",
              "              20,   12,  389, 1515,   13,   12, 1008,   34,   12,  389,    0,\n",
              "             760,   12,    0,   15,    0,    0,  154,    0,    0,   10,    8,\n",
              "             135,    8,    0,    8,  761,   10,    8,    9,  109,   16,   49,\n",
              "              71,   21,  389,    0,  250,   50,   53,    8,    0,    0,    0,\n",
              "              40,   10,    8,    9,   90,   16, 1009,   10,    8,  389,    0,\n",
              "             168,  762,   15,    0,    0,   55,    0,   12,  389,    0,   21,\n",
              "             471, 1516,   29,    0,   10,    8,   65,  468,   12, 1517,   22,\n",
              "               0,   22,   29,  441,   13,   12, 1178,   14,  763,   10,    8,\n",
              "              65,    0,  126,   11,   49,   34,   13,   49, 1518,   10,    8,\n",
              "             135,   12,   26,  260,  312,   18,   59,   15, 1519,  107, 1520,\n",
              "              29,    0,   10,    8,   51,   31,   50,    8,  169,  413,   24,\n",
              "             414, 1194,  135,   12,   73,   24,   73,   32,  135,   12,  186,\n",
              "               0,    0,   28,    9,    0,   40,    0,   99,   17,   84, 1521,\n",
              "             113,   40,   16,  123,   91,   19,   10]),TensorText([   2,    8,  136,   23,    9, 1006,   93,    8,   45,    9,  155,\n",
              "              14,    9,   26,   11,   12,  115,  295,   14,   31, 1010,   10,\n",
              "               8,   31,  190,  603,    9,  412,   14,  107,  137,    0,   20,\n",
              "               0,   28,   21,  552,  295,   11,   32,   18,   23,  503,   11,\n",
              "              18,   23,  503,   10,    8,   31,  190,    0,    9,    0,   45,\n",
              "             282,    0,  103,  107,    0,   67,    0,   33,   41,  472,  160,\n",
              "              28, 1522,   10,    8,  351,   13,  385,  119,  269,   15,    0,\n",
              "              66,  473,   31,  501,  103,    9, 1195,  353,   10,    8,   31,\n",
              "             190,    0,  113, 1196,   13, 1523,   29,   12,    0,    0,   13,\n",
              "              77,    0,   60,   12,    0,    0,   10,    8,   66,    7,    0,\n",
              "               0,  251,    8,    0,    9,   22,   26,   14,    9,    0,   11,\n",
              "              22,   12,  245,   14, 1011, 1197,  119,  200,  283,   20,  107,\n",
              "             664,   10,    8,   31,  190,    0,   72,    9,  372, 1198,    0,\n",
              "              72,   34,    9,    0,   14,    9,    0,   29,   12,    0,    0,\n",
              "              14, 1199,   20,  107,  863,   10,    8,  121,   31,  190,    0,\n",
              "             103,    9,  764,  604,   13, 1200,    9,    0,   10,    8,   31,\n",
              "             190,    0,   45,    9, 1201,   11, 1519, 1012,   12,  115,   13,\n",
              "             121,    0,   15,  439,    0,   10,    8,   99,  349,  107,  353,\n",
              "             865,   11,    8,    0,    8,    0,   20,   12,    0,   16,  152,\n",
              "             194, 1013,  196,   10]),TensorText([   2,    8,    9,  765,   14,   22,    9,    8,  866,   22,    0,\n",
              "             766,    9, 1524,   40,   22, 1014,   15,    9,    8,  195,    8,\n",
              "             415,   14,    9,    8, 1015,   22,   36,  102,   55,    8,    0,\n",
              "             605,    8,    0,    8,    0,   14,   67,    0,   67,   13,   67,\n",
              "             389,   93,  210,    5,  132,  606,   67, 1525,   35,   10,   12,\n",
              "            1526,   24,    0,    8,  553,   16,    9,  767,   14,  246,  174,\n",
              "              10,    8,   32,   58,   16,   12, 1202,   10,    8,  141,    9,\n",
              "             238,   20,   22,    9,    8,  866,   22, 1527,   12,    0,    0,\n",
              "              62,   15,    0,    9,    0,   14,    9,    0,   11,   22, 1014,\n",
              "              15,    9,    8,  195,    8,  415,   14,    9,    8, 1015,   22,\n",
              "               0, 1203,   12,  554,    0,  238,  141,    0,   11,    0,   11,\n",
              "               0,   11,    0,   14,  221,  239,   11,   13,   14,  354,    0,\n",
              "               0,   82,   42,   20, 1204,   36,   57,    0,   35,  442,   10,\n",
              "               8,   49,   11,    9,    0,   14, 1526,    8,    0,   16,    9,\n",
              "              75,    0,   14,  246,  174,   10,   27,    8,    0,   11,    9,\n",
              "               7,  252,  245,   22,  555,   14,    9,    8,    0,   22,  330,\n",
              "             175,  246,   14,  240,  174,   11,  331,  391,   52,    0,   15,\n",
              "               0,   10,    8,   18, 1205,   12,  238,   21,   25,  506, 1526,\n",
              "              15,    9,    8,  553,   29,    9, 1206,   21,    9,    0,   25,\n",
              "               0,   55,    0, 1528,  226,    9,    0,   14,    9, 1529,   56,\n",
              "             867,   24,    0,   58,   10,    8,    9,  297,   14,   12,    0,\n",
              "               0,   62,   15,    0,   13,    0,    9,   67,  115,  108,   67,\n",
              "              25, 1016,   15,    9,  767,   14,   22,    9,    8,  866,   22,\n",
              "              74,   24,   49,   91,    9,  767,   14,   22,    0,   22,   10,\n",
              "               8,  416,   99,   14,    9,    0,   15,   22,    0,   22,   11,\n",
              "              12,  245,   15,   22,    9,    8,  866,   22,   25,    0,   10,\n",
              "               8,   88,   18,  501,  103,   12,    7,  252,  245,   18,   64,\n",
              "              37,   92,   12,  413,   24,  414,  417,   14,   22,    9,    8,\n",
              "               0,   11,   22,   29,  332,    8,    0,    8,    0,  142,    0,\n",
              "              55,    9,    0,   52,  857,   15,  857,   11,    0,   62,   20,\n",
              "             507,    0,   11,  443,   10,    7,    0,   11,   12,    0,  227,\n",
              "              98,   37,    0,   19,   40,  355,   10]),TensorText([   2,   17,  315,   19,   34,    8,  413,    8,  414,   11,   13,\n",
              "              20,    0,   11,    8,   17,  153,   38,  261,  105,   17,  152,\n",
              "               0,   15,  112,   18,   42,    9,  147,  154,   10,    8,   19,\n",
              "              16, 1530,  675,   10,    8,   18,   23,   38,   12,  271,   26,\n",
              "              11,   18,   23,   12,   22,    0,   26,   22,   45,  179,   10,\n",
              "              27,    8,  474,   19,    0,    0,  230,  158,   34,   12, 1207,\n",
              "              36,   13,  607,   38,   34,   46,   35,  373,  556,  284,   20,\n",
              "              18,   23,    0,  868,   20,    9, 1208, 1531,   14,    8,  768,\n",
              "              10,   12, 1532,   14,  108,   39,  552,   36,    0, 1209,   35,\n",
              "              13,   12,  475,   14,    0,    0,    0,    0,    0,  146,  230,\n",
              "              28,  126,   10,    8,    9,  179,  223,   14,   19,   26,   11,\n",
              "               8,   17,  190,  316,   18,  138,   11,   16,   58,   23,   77,\n",
              "              85,  869,  508,   10,    8,  356,   83,  138,    0,   19,   55,\n",
              "             676,   31,   21,   42,   32,    9,  193,  869,   46,   87,  113,\n",
              "            1210,  285,    0,  128,   11,    0, 1017,   11,   57,  608,   49,\n",
              "             296,   29,   12,    0,    0,   21,    9,  407,    0,  128,   10,\n",
              "               8,   21,   23,   73, 1006,   78,    8,    9,  677,   20,   19,\n",
              "              26,   16,  149,    9,  444,   13,   85,    0,   10,    8,   18,\n",
              "            1211,   73,  169, 1212,   11,  285,   10,   27,    8,  136,   23,\n",
              "              68,   23,   81,   93,    8,    9,  870,  173,    7,  317,   11,\n",
              "               9,  192,  607,  678,    7,  317,   11,    8,    9,    0,   13,\n",
              "               0,   11,   77,   14,  126,   11,   39,  509,   10,   27,    8,\n",
              "             284,  294,   21,   31,   84,  120,   14,   11,  609,   10,   12,\n",
              "             164,   14,    9,    0,   16,   20,    9,  557,   10,    8,   77,\n",
              "             226,   18,   59,    0,  149,   52,   12,    0,  318,  163,   15,\n",
              "              12,  169,    0,   13,    0,  163,   10,    8,  607,    9,  156,\n",
              "              47,  558,   24,    0,  228,   11,   13,   41,  171,  286,    0,\n",
              "              72,   11,   32,   38,   69,   20,   12,  147,   21,    9,  445,\n",
              "              84,  871,   10,    8,  250,   50,   41,   87,    0,   72,  232,\n",
              "               0,   18,    0,  668,   32,   41,  116,   42,  418,   15,  130,\n",
              "              21,   41,  171,    0,   72,   42,    9,   76,   13,   39,    7,\n",
              "             317,   29,   18,   69, 1533,   41,  171,   20,   12,   85, 1213,\n",
              "               0,   13,   58,   23,  679,   42,  149,    9,  283,   13,  108,\n",
              "              39, 1018,  279,   13,  287,   10,    8,  133,   20,   19,   26,\n",
              "              16,    9,  193,  370, 1214,   11,  118,   14,   18,   16,    0,\n",
              "              13, 1215,   11,   13,   17,   47,   30,   85,   87,  105,   19,\n",
              "            1534,   11,    0,   71,  184,  419,   25,  386,   15,   43, 1216,\n",
              "              20,    9,  155,   11,   13,  872,   11,   17,   47,   30,  333,\n",
              "              10,    8,  125,   96,  207,   11,    0,   71,    0,  476,  253,\n",
              "              19,   26,   13,   17,   47,   30,   85,  333,   15,  610,   18,\n",
              "              42,  136,   10,    8,   13,   41,  171,   42,   49,  611,  446,\n",
              "               9,  203,    0,   66,   18,   23,  254,    0,   71,   78,   59,\n",
              "             218,   10,   27,    8,   19,   26,   16,   12,  510,  288,   14,\n",
              "              76,   10,    8,   58,   23,   73,  680,   28,  167,   19,   11,\n",
              "             873,    9,   75,  612,   31,  874,   15,    0,   16, 1217,   13,\n",
              "              31,  171, 1535,   15,   12,    0,   20, 1218,   14,    9,    7,\n",
              "             252,   10,    8,   32,   51,   31,  171,   38, 1535,   11,   31,\n",
              "             171,  123,  128,  420,   12,    0,   11,    0,   12,    8,    0,\n",
              "              11,   57,   69,   59,  477,   10,    8,   58,   23,  875,   14,\n",
              "              96,  123,  271,   95,   21,   31,   84,  112,   10,   27,    8,\n",
              "              80,    0,  255,   20,  357,  298,   80,  421,   13,    7,   17,\n",
              "              11,   20, 1536,    0,   13,    0,  769,   11,  102,   12,  229,\n",
              "              26, 1537, 1019, 1020,   28,  374,  249,   26,   36,   58,   25,\n",
              "              73,  313,   26,   11,   59,   12,   85,  229, 1537,   35,   13,\n",
              "              79,   86,   12,  123,  289,   14, 1538,   13,  557,    9,  295,\n",
              "              29,    0,   10,    8,   18,   25,  123,  208,   91,   19,   26,\n",
              "              10,    8,   21,   85,  613,  180,   60,   19,   13,    8,   17,\n",
              "             153,    0,   13,    0,   33,   15,  129,    8,  413,    8,  414,\n",
              "              64,  159,  262,   50,   19,   66,   58,   39,   49,  124,   81,\n",
              "             299, 1539,   95,   41,   84,  159,   10,   27,    8,    9,   75,\n",
              "              26,   21,    8,   17,  206,  131,    0,   21,   25,  300,   91,\n",
              "              19,   16,    8,    0,    8,  511,   36,  134, 1540, 1217,    0,\n",
              "              18,   88,    0,   13,   74,    0,    0,   91,   19,    0,   32,\n",
              "              19,  388,   89,  681,   13,   16,  447,    0,   34,   80,  610,\n",
              "              14,  162,   95,    8,   17,  206,  131,  144,   10]),TensorText([   2,   17,  140,   37,  770,  123,  272,    9, 1491,   82,   42,\n",
              "             149,    0,   10,    8,   19,  390,   25,  375,   13, 1021,   55,\n",
              "               9,  241,  184,   56,   70,   73,    0, 1219,   10,    8,    9,\n",
              "             273,   16,   12,  475,   14,    0,   29,    9,  512, 1206,   14,\n",
              "               8,  513,    8,    0,   56,  256,   15,    0,   20,   71,   95,\n",
              "              10,    8,  443,   10,    8,    0,   18,   15,  145,   11,   17,\n",
              "             170,   30,   94,  100,  328,  129,  334,   64,  191,   15,   94,\n",
              "              19,  218,   11, 1541,  505,   45,   40,  350,   10,    8,  514,\n",
              "              34,  100,    0,  612,   45,  132,  181,   13,   31,  190,   94,\n",
              "             123,   95,   10,    8,    0,  270,   10]),TensorText([   2,    8,  682,   17,   98,   30,    0,   74,   11,   29,    9,\n",
              "             236,  771,   10,  872,   17,  211,   19,   25,  300,   91,    8,\n",
              "             876,   34,    8,    0,   11,  197,  270,   10,    8,  236,   40,\n",
              "              28,    7,    9,  683, 1540,    8,    0,    8,    0,   56,  422,\n",
              "              62,   14,  283,   33,    9,    0,   88,  614,   34,   15,    9,\n",
              "               8,  559,    0,  684,   14,   34,    9,    0,   11,  174,   14,\n",
              "             104,   82,  142,  102,   45,    9,  241,   76,   11,   82,  872,\n",
              "               0,    0,    8,    0,   25, 1022,   11,   12,  143,   50,   46,\n",
              "              14,  107,    0,    0,  351,   56,  151, 1220,   65,   23,    0,\n",
              "              11,   34,    0,   29,   77,  558,    0,   14,   12,    8,    0,\n",
              "              11,    8,    0,    0,    8,    0,   44,    0,   30,   10,    8,\n",
              "               9,  245,    0,    0,   34,   29,    0,   50,    8,  876,   34,\n",
              "               8,  392,   11,   13,    8,  876,   34,    8, 1542,   10,    8,\n",
              "             876,   34,    8, 1543,   25,   30,   71,   11,   32,   85,   29,\n",
              "              19,   40,    9,  155,   14,    9,  245,   25,    0,   11,   12,\n",
              "               0,   99,   72,   15,   19,   40,   17,  170,    0,  120,   14,\n",
              "              71,   40,  175,   19,   54]),TensorText([   2,    8,    9,  179,  158,   60,   22,    9,    8,    0,   22,\n",
              "              16,    9,    0,  448,   78,   22,   18,   23,   38,  515,   13,\n",
              "              18,   23,  172,   53,    0,   22,   61,    8,    9,   26,  478,\n",
              "              16,   12,    0,    0,   78,    0,    0,   13,    0,  862,   97,\n",
              "               9,  445,    0, 1544,   61,    8,   73, 1023,  502,  119,   50,\n",
              "              19,  600,   78,  272,  112,   22,    0,    9,    0,   22,  212,\n",
              "              13,    0,  100, 1024,   14,   19,   40,   31,  217,   61,   27,\n",
              "               8,   18,  116, 1186,   33,   46,   14,    9, 1545,  162,  174,\n",
              "             131,  102,   61]),TensorText([   2,    8,    0,   67,    8,    0,   11,   19,   26,    0,   61,\n",
              "               8,   18,   23,   12,  516,   13,    0, 1025,   21,  150, 1546,\n",
              "              72,   10,    8,   18,   23,   12,  685,  334,   69,    0,   15,\n",
              "              97,    8,    0,   72,   20,   48, 1221, 1547,    0,   13,    0,\n",
              "              11,   33,   44,   70,  133,    0,   57,    0,   15,   47,   57,\n",
              "             145,  446,   19,    0,   10,    8,    0,  234,   37,   92,   49,\n",
              "               0,   21,   44,    0,   15,  517,   48,    8,  877, 1222,   10,\n",
              "              27,    8,   75,    8,    0,    0,   12,    0,   57,  148,   11,\n",
              "              13,   58,   23, 1176,  115,   14,   21,   15,  146,  176,  136,\n",
              "             560,   10,    8,  615,   20,   12,    0, 1223, 1224,   13,  134,\n",
              "            1548, 1225,   24, 1226,   20,    8,    0,    8,    0,   11,   13,\n",
              "               9,  772,  168,   69,    0,   10,   27,   12,  169,    0,   10]),TensorText([   2,    8,    9,   75,  499,  158,   21,   17,  213,   60,  167,\n",
              "              19,   26,   25,    0,   15,    8,  332,    8,    0,  686,  154,\n",
              "               9, 1201,   14,    9,   26, 1187,   36,  314,   17,  146,   15,\n",
              "              12,   85,   71,   26, 1187,   35,   10,    8,   19,   26,   16,\n",
              "              49,  301,    0,   71,   21,   17,  120,   17,   64,  274,   37,\n",
              "              80,  561,    0,   62,   55,   12,  408,  274,   91,  112,   18,\n",
              "             212,   10,   27,    8,  356,   23, 1227,   18,   15,    9,  290,\n",
              "              10,    8,   46,   16, 1026,   11,  196,   11, 1027,   11,  117,\n",
              "             616,   11,   13,   46,   14,    9,  179,   95,  131,  102,   11,\n",
              "               9,  106,   16,   49,  195,   52,  196,   21,   42,   31,   84,\n",
              "              47,   16,  562,   21,  107,    0,  119,  518,   62,   49,   31,\n",
              "              47,   30,   37,   15,  112,  100,   74,   10,    8,   17,  153,\n",
              "             682,    8,  998,    8, 1175,   16,   12, 1549,  754,   32,   84,\n",
              "              38, 1227,   29,    8,    0,    8,    0,   11,   13,   47,   30,\n",
              "              69,   87,   83,  519,   34,    8,  853,    7, 1494,    8,  853,\n",
              "              20,   12,  223,   46,    0,   55,    9,  859,   13,  335, 1026,\n",
              "               8, 1550,    8, 1228,   10,    8, 1550,    8, 1228,   67,    0,\n",
              "             223,   20,    9,  198,  417,   16,    9,   75,    0,  878,  223,\n",
              "              14,   19,   26,   11,   13,   18,   16,    9,   75,  328,   17,\n",
              "              84,    0,   12,  210,  199,  687,   36,  116,   99,    9,  688,\n",
              "             101,   30,  146,  103,    0,   35,   10]),TensorText([   2,    7,  317,   10,    8,  110,  270,   11,   17,   59,  563,\n",
              "              15,  689,  601,   19,   26,   70,   53,  749,  687, 1028,   57,\n",
              "             473,    0,   10,    8,   32,    0,   10,    8,   19,   16,    0,\n",
              "              91,  100,   14,    9, 1551,   67, 1229,    0,   10,    8,   21,\n",
              "             102,   83, 1230,   68,  108, 1231,  136,  272,  104,   20,    9,\n",
              "             155,  102,   83,  393,   72,   53, 1552,   15,  214,   80,    0,\n",
              "              14,  879,  103,   19,   22,  117,   14,    0,   22,   17,  217,\n",
              "             136,   10,   27,    8,  105, 1232,   31,  479,   69,    7, 1029,\n",
              "              19,   26,   20,    9,  241,    0,   33,    0,    8, 1553,   54,\n",
              "               8,    9,   75,  158,   41,  172,   20, 1233,   16,   21,   41,\n",
              "             159, 1030,  520,   24,  189,   10,    8,   21,   24,   16,   24,\n",
              "              18,   10,    8,   13,   22,  179,  449,   14,  210,    5,  132,\n",
              "             606,   61,   22,   54,   37,   31,   69,  336,  134,   26,  690,\n",
              "              21,  255,   54,    8,   57,  100,  106,   26,   20,  107,  137,\n",
              "              45,   42,   54,  210,    5,  132,  606,   16,   38,   12,  255,\n",
              "             104,  108,   39, 1554,   14,   55,    7, 1234,   78,   68,   23,\n",
              "              29,  521,    7,   95,   50,  617,    0,   11,    8,  561,    0,\n",
              "            1031,   11,    8,    0,    8,  772,   11,    8, 1235,    8,    0,\n",
              "              54,   36,   41, 1236,  152,   74,   12,   22,  449,   22,   91,\n",
              "              19,   46,   98,  131,   43,  272,   35,   10,    8, 1234,  101,\n",
              "              38,   69, 1555,   15,   43,    0,   15,   12,    7,  376,   14,\n",
              "             210,    5,  132,  606,   10,   27,    8,   85,   11,   31,  479,\n",
              "             170,   30,   43,  611,   10,   17,  336,   21,   26,    0,   29,\n",
              "              80,  880,   11,  559,    0,   55,   12,  421,   14,   63,   10,\n",
              "              12,   22,  186,   40,   29,    8,  881,    8, 1002,   22,   61,\n",
              "              78,  104,   17,   88,   38,  263,  144,   54,    8,    0,  272,\n",
              "              27,    8,  117,   11,  110,  173,   34,    9,    8,    0,   93,\n",
              "               7,  317,   11,  133,  377,   10,    8,   45,  376,    0,   31,\n",
              "              47,   30,  337,   15,   37,    0,    0,   15,   43, 1556,   21,\n",
              "              41,  242,    0,    8, 1002,   23,  407,   11,    0,   48, 1182,\n",
              "              67, 1237,    0,   11,  121,  102,   12, 1557,  564,    0,   34,\n",
              "             444,   14,   18,   11,   15,   87,    9, 1551, 1238,   34,    9,\n",
              "               7,  565,   10,    8,   31,   98,   69,  120,   41,   88,   77,\n",
              "               0, 1183,   12,    0,   14,    0,   59,   15,    0,   21, 1032,\n",
              "              36,  271,    5,  231, 1033, 1239,   61, 1558,   35,  863,  272,\n",
              "             691,   10,    8,  501,   18,  176,   13,    9,  122,  882,   29,\n",
              "             272,   22,   18,   23,    0,   20,    8,    0,   78,    0,    0,\n",
              "              22,   10,    8,  275,   34,   11,   12, 1240,  255,  185,   98,\n",
              "              37,  102,   21,    0,  358,   74, 1027,   10,    8,  138,   11,\n",
              "              29,   19,    0,    0,  686,   52,    9,   95,    0,    0, 1558,\n",
              "              11,   31,  335,    0,  264,  167,   18,   10,    8,   99,   18,\n",
              "             170,   30,   43,   21,   71,   11,   18,  151,   16,    8,  881,\n",
              "               8, 1002,   10,    8,   21,    0,   14, 1559,   25,    0,  265,\n",
              "              10,   29,   22,    0,  265,   22,   17,  394,   18,   25,    0,\n",
              "             692,   55,   12,    0,    0,   14,    9,  162,    0,  109,  131,\n",
              "             770,   15,    0,   36,  221,  618,   11,   32,    9,    0,   39,\n",
              "               9,   22,   17,   84,   47,  210,   24,    0,   61,   22,  359,\n",
              "            1560,   11,    8,    0,    8,  384, 1241, 1241,  152,   12,  123,\n",
              "            1242,   91,    8,    0,   66,   65,    0,  619,    0,   15,   12,\n",
              "             263,    7,  335,    7,  883, 1034,   20,    9,  450,    5,  231,\n",
              "              61, 1558, 1241, 1241,   13,  272,  314,  272,    8,    0,  360,\n",
              "              35,    0,   12,    0,   14,    0,  566, 1561,   11, 1562,    0,\n",
              "              20,   12,  210,   24, 1563,   24,    0,   11,  773,   24,  219,\n",
              "             195,   24,    0,    0,  104,   20,   80,  257,   24,   14,   24,\n",
              "             884,    0,   53,  774,   15,  100,  477,  515,  142,   13,  236,\n",
              "              32,   38,  193,   12,  451,   24,  139,   56,  480,   25,   12,\n",
              "               0,    0,   10,    8,  302,  117,   11,   13,   51,   31,   47,\n",
              "              38,  395, 1031,  160,  107, 1199,   36,  161,   39,   30,    0,\n",
              "              15,  112,   18,   35,  121,   31,  140,  130,   56,   16,   56,\n",
              "              13,   68,   16,   68,  111,  885,   10,    0,   11,  242,   99,\n",
              "              31,  130,    7,  100,  163,  111,    9,  110,   10,    8,   21,\n",
              "              16,    0,   10,    8,    0,   99,   19,   26,  254,  251,   31,\n",
              "             120,   31,   84,  316,    9,  522,   10,   27,    8,    9,  620,\n",
              "             448,   93,    8,   19,   16,    7,   55,    7,  195,    9,  162,\n",
              "              26,   17,   84,  523,   10,    8, 1243,   83,   11,    8,   17,\n",
              "             206,  144,  124,  280,   95,  104,   20,   77,  147,   82,   45,\n",
              "             193,   75,   71,  775,   57,   71,    0,   14,  134,   26,   10,\n",
              "               8, 1234,  248,   11,   16,    9,  179,  266,   34,  105,   15,\n",
              "            1564,   20,  221, 1244,  512,   10,    8,   18,   25,   49,   71,\n",
              "              21,  111,  142, 1035,   55,  135,    0,  299,  361,   20,    0,\n",
              "              24,    0,   24,    0,   24, 1565,   24, 1506,   24,    0,   24,\n",
              "            1239,   24,   17,   24, 1237,   24,    0,   11,   17,    0,   74,\n",
              "             546,   91,   20,  100, 1036,  258,   11,  242,   99,   17,   25,\n",
              "               0,   55,    9, 1037,   23,    0,   15,    0,  165,   53,    0,\n",
              "              40,    0,   10,    8,   81,  158,   28,    8, 1002,   44,   25,\n",
              "              20,    0,   93,    0,   12,  255,  423,   11,    0,   44,   84,\n",
              "              43,    0,   10,  157,    0,   27,    8,    0,   11,   17,    7,\n",
              "              47,  437,  167,   19,   26,   15,    7,  267,   10,    8,   20,\n",
              "               9,  155,   11,   79,   88,  186,  409,  167,   18,   93,    0,\n",
              "              10,   17, 1521,   31,   11,  111,   31,  395,  336,    8, 1234,\n",
              "              36,   43,    0,   11,   31,   84,   47,   18,   61,   35,   11,\n",
              "              31,  119,    0,    9,  684,   14,  109,   20,  100,  424,    0,\n",
              "               0,   10,   27,    8,   57,   59,  146,   67, 1237,  112,    0,\n",
              "              46,   74,   76,   78,   21,   23,   68,    8,   17,  153,  886,\n",
              "             887,   47,   10]),TensorText([   2,    8,  138,   11,   17,  215,   71,   11,  185,    0,   95,\n",
              "              33,   96,   33,  118,  108,   10,    8,   13,   17,  758,   21,\n",
              "              12,  338,   16,   12,  338,   10,    8,   21,  270,   11,    8,\n",
              "               0,   14,    9,    8,    0,   16,   33,   71,   33,   12,   71,\n",
              "              26,   84,   87,   10,    8,    9,  158,   70,   73,  192,   11,\n",
              "              13,   75,   46,    0,  864,  621,   41,  276,  128,  148,  225,\n",
              "             111,    0,    0,   10,    8,   58,   39, 1245,   73,  878,    0,\n",
              "              15,   43,  213,   20,   19, 1566,   14,  469, 1567,   10,    8,\n",
              "               9,   75,  158,   38,  469,   25, 1568,   78,    9, 1038,  234,\n",
              "              37,   92,   73,   74,   91, 1246,    0,  229,   10,    8, 1569,\n",
              "              73,   46,  152,    7, 1231,  436,   19,  888,   10,    8,   17,\n",
              "             153,    0,    0,   21,  165,   95,  131,  172,  102,   11,   96,\n",
              "             339,  693,   10,    8,   17,  153,   75, 1039,   17,   86,   30,\n",
              "             481,   15,   94,   19,  288,   14,   76,   10,    8,   18,   23,\n",
              "               0,  225,   14,   80,  137,    8,   17,  190,  150,   87,  177,\n",
              "              10]),TensorText([  2,   8,  17,  ..., 700,   0,  10]),TensorText([   2,  210,   35,    8,  456,  149,    9,  426,   14, 1545,   21,\n",
              "               0,   15,  668,   11,  232, 1591,   11,   33,  331,   22,  378,\n",
              "              22,   11,   57,  142,  285,   12,   22,  889,   22,   57,   12,\n",
              "              22,    0,   22,   10,    8,    0,   11,   52,  136,   34,   20,\n",
              "              18,   23,   12,    0,    0,  103, 1592,   20,  107,  249,  169,\n",
              "              24,  137,  417,   14,   22,   12,    8,  282,   45,    9,    8,\n",
              "               0,   22,   10,   27,  182,   35,    8,  527,   22,    9,    7,\n",
              "            1253,   10,   22,    8,    9, 1254,   22, 1253,   10,   22,   20,\n",
              "              13,   14,  478,   16,   30,   71,   11,   32,   66,    0,   55,\n",
              "              22,    9,   22,   18,    0,  627,  223,   14,    9,    8,    0,\n",
              "               8,    0,   10,    8,   19,  373, 1235,   28,  454,  108,   10,\n",
              "              27,  132,   35,    8,  108,   21,   97,    7,  252,  233,  486,\n",
              "              34,  701,   21,   41,   47,   30,  130,   16,   30,  498,   13,\n",
              "             121,  146,   34,  688, 1593,   33,   22,  396,   22,   11,   36,\n",
              "              78,  279,   78,   35,    0,   11,   46,   14,  621,   16,   52,\n",
              "               9,   22,    0,    8, 1045,   22,   36,  487,   11,   83,  125,\n",
              "              61,   35,   15,    0,  774,  702,   14,  113, 1046,  569,   28,\n",
              "               0,  477,  113,  159,  609,   10,    8,    0,  210,    0,    0,\n",
              "             257,   51,   41,    0,  100,    0,   34,    9,  302,   24,    0,\n",
              "              24,  528,   24,   46,   24,    0,    0,   21,   22,   51,   31,\n",
              "              47,   30,   50,    9,  159,   31,  480,  170,   30,   87,    0,\n",
              "              10,   22,   27,  231,   35,    8,    0, 1594,   24,    0,  127,\n",
              "               7,    0,    0,    8,    0,   78,   12, 1595,    0,   15,    9,\n",
              "             610,   45,  110,    0,   11,   32,   45,    9,  155,   14,    9,\n",
              "             326,    8,    0,  168,    9,    0,  529,   28,    9, 1009,  328,\n",
              "              21,   48,  900,    0,   14,  299,   24,  703,    8,  363,   24,\n",
              "               0,    0,   13, 1047,    8,    0,    8,    0,    0,    0,   29,\n",
              "               9,  901,    0,   14,   22,    0,   15,    9,    7, 1253,   10,\n",
              "              22,   27,  352,   35,    8,  236,   32,   38,  193,   11,   22,\n",
              "               0,   15,    9,    7, 1253,   10,   22,   78,   28,   42,    9,\n",
              "             427,  902,   13,   74,   10]),TensorText([   2,    8,   19,   16,   46,   14,   12,    0,   14,   95,   11,\n",
              "             141,  311,   14,   12,    0,   14,    0,   46,  140,  112,   18,\n",
              "              29,   12,    0,   14,    0,   10,    8,   15,   43,  395,    0,\n",
              "              79,   39,   12,  530,   14,  108,   56,  152,  130,    9,  139,\n",
              "              11,    8, 1048,    8, 1255,   11,   13,  704,   15,  531, 1596,\n",
              "             207,   15,   19,   40,   10,   27,    8,    9, 1049, 1244,   14,\n",
              "               8,    0,    8,  180,   23, 1597,  256,   15,   37,  287,   62,\n",
              "             246,  681,   24,    0,   13,    0,   10,    8, 1048,   13,    8,\n",
              "               0,   23,    0,  903, 1050,    9,    0,   14,    9,  148,    0,\n",
              "              11, 1051,    0,    0,    0,   10,    8,   58,   23,  116,    0,\n",
              "               0,   10,    8,   33,    8,    0,   64,   37,  291,   18,   93,\n",
              "              22,   19,   36, 1051,    0,   35,  373,   72,  107,    0,   22,\n",
              "              10,    8,    9, 1256,  904,   13,    0, 1256,    0,   16, 1257,\n",
              "              10,   27,    8, 1052,   10,    8,   49,   51,   31,   39,  151,\n",
              "             628,   11,  356,  201,  782,   56,   79,   39,   10,    8, 1048,\n",
              "               8, 1255, 1598,   45,    7,    0,   13,   79,   39,   12,  530,\n",
              "              14,   63, 1258,   11,   56,   11,    0,   12,   40,  769,   29,\n",
              "              63,   11,  704,   15,   87,    0, 1053,   13,  112,  136,    0,\n",
              "               0,   10,    8,   65,  116, 1231,    8,    0,    8,  508,   10,\n",
              "              17,  170,   30,  316,   31,  105,   96,   21,   23,   92,    0,\n",
              "             103,  374,    0,   10,    8,   49,   19,   26,   16,  220,    9,\n",
              "             783,   10,    8,   45,    9,   89,  620,   14,   19, 1054,  119,\n",
              "              43,   12, 1055,  378,   79, 1599,   28,   19,   26,   10,   27,\n",
              "               8,   60, 1600,  225,  103,   19,  378,   11, 1601,   14,  201,\n",
              "              98,   94,  905,   10,    8,    9,    0, 1602,   14,    8,    0,\n",
              "              23,   20,    9,  110,    0,  225, 1599,  197,  902,   15,  531,\n",
              "              15,    0,   53,    0,   25,  180,    0,    0,   60,  312,  148,\n",
              "               0,  508,  608,   34,   12,    8,    0,    8,    0,    0,   29,\n",
              "             335,   73,    0,   11,  629,   28,   48, 1011,  163,   45,    9,\n",
              "               0,  532,  141,   44,   25,  302,   24,   49,   24, 1582,  628,\n",
              "              12,  379,    0,   10,    8,   99,   21,   23,   68,   79,   42,\n",
              "              47,   10,    8,    9,  784,   24,    0,    0,   82,    0,    0,\n",
              "              14,    8,    0,   10,    8,   13,  180,   60,   21,    0,  163,\n",
              "              14,    9, 1603,    0,   24,   72,  570,    0,    9,  178,   23,\n",
              "             906,   14,    0,    0,    0,   10,    8,   79,  548,   79,   82,\n",
              "               0,   10,   27,    8,  197,    0,    0,   10,    7,   34,    7,\n",
              "              15,    7,    9,    7, 1055,    7,  378,   61,    8,   19,  119,\n",
              "               0,   21,    9, 1259,  783,   16,   12,  907,   46,   10,    8,\n",
              "              18,   23,   89, 1009,   11,   13,   89,  895,   15,  705,   45,\n",
              "             193,   46, 1191,   14,  107, 1007,   15,    0,  333,   10,   27,\n",
              "               8,    9,    8, 1048,    8, 1255,  127,    8,    0,    8, 1055,\n",
              "               8,  378,   93,  210,   10,    8,  221,   76,   31,   94,  262,\n",
              "               0,   15,    0,   11,  200,   12,  531,   10,  182,   10,    8,\n",
              "             221,   76,   31,   94,    0,    8, 1048,    8, 1255,   23,  550,\n",
              "            1604,   11,  200,   12,  531,   10,  132,   10,    8,  500,   10,\n",
              "             231,   10,   36, 1051,    0,   35,    0,  148,    0,   10,  352,\n",
              "              10,    8,  100,   76,    0, 1043,   12, 1605,   45,  134,  143,\n",
              "              11,  200,   12,  531,   10,    0,   19,  257,   31,  119,  235,\n",
              "             337,   15,    0,  127,    0,    0,  100,  908,    0,   52,  107,\n",
              "               0,  440,   10,    8,  100,   76,   58,   16,  320,   36,  896,\n",
              "              22,  750,    7,  320,   22,   35,   11,  488,  200,   12,    0,\n",
              "              61, 1056,   10,    8,    9,    0,    0,   24,    0,  367,    0,\n",
              "              46,  531,    0,  376,   10,  617,   10,    8,    0,  517,   14,\n",
              "               9,   22,    0,  457,  139,   22,    0,   46,  531,   10,  606,\n",
              "              10,    8,   51,   31,  170,   30,  615,   62,    9,  154,   24,\n",
              "             448,   11,    7,  571,    7, 1055,   11,    8,    0,   10,  204,\n",
              "              10,    8,    0,   31,   39,  386,   15,    0,   12,  448,   11,\n",
              "             200,   12,  531,   10,    8, 1243,  201,   10,    8,   18,   23,\n",
              "             667,   10,   27,    8,   21,   23,   18,   11, 1570,   61,    8,\n",
              "             571, 1055,   11,   13,  269,   38,   15,   87,    0,   10,   27,\n",
              "               0,    8,    0,    8, 1606,   11,    8, 1057,   10]),TensorText([   2,    8,   19,   26,   16,   12,  186,   26,    7,   75,   51,\n",
              "              31,  337,  180,   15,  472,   13,  439,   45,    9, 1607,   14,\n",
              "              18,   10,    8,   33,   12,    0,   19,   26,  168,  118,   14,\n",
              "               9,  909, 1608,  265,   13, 1609,  192,   21,   39,  125,  209,\n",
              "              15,   69,   43, 1189,   20,    9,  444,   14,  113,    0,   10,\n",
              "               8,   18,   16,  187,  105,   18,  233,    0,    0,   20, 1260,\n",
              "               0, 1028,    9,    8,  553,   23,    0,   10,    8,   18,  116,\n",
              "              16,  196,  105,    0,    0,    0,   39, 1041,   15,   37, 1260,\n",
              "               0,   52,   12,    0,    0,  706,   10,    8,   41,  418,   15,\n",
              "             999,    9,  707,    0,   20,  161,    0,   64,   43,    0,    0,\n",
              "              12, 1261,    0,   15,   47,   19,   96,    0,   10,    8,  116,\n",
              "              18,   16,  196,  105,   96,   41,   97,    9,    0,  448,   14,\n",
              "               8,    0,    8, 1610,   13,  116,    8,    0,   15,  173,   33,\n",
              "             188,   41,   39,  528,    0,   14,    8,    0,    8,    0,   10,\n",
              "               8,    9,    8,    0,    0,    0,   16,   89,  499,   69,   51,\n",
              "               9,  147,   18,   16,  364,   16,  265,   10,    8,    9,  178,\n",
              "             101,   12,   81,  289,   14, 1611,   74, 1226,    0,   29,    9,\n",
              "             182,   22,    0,   22,    0,   23,   10])]"
            ]
          },
          "metadata": {},
          "execution_count": 24
        }
      ],
      "source": [
        "nums = L([num.encodes(o) for o in toks200])[:20]; nums"
      ]
    },
    {
      "cell_type": "code",
      "execution_count": null,
      "metadata": {
        "colab": {
          "base_uri": "https://localhost:8080/",
          "height": 209
        },
        "id": "K6J2Htily6FM",
        "outputId": "459ed4aa-fb58-4f9f-9263-ad8c91bf6a36"
      },
      "outputs": [
        {
          "output_type": "execute_result",
          "data": {
            "text/plain": [
              "\"xxbos ` it 's as if this town has the power to suck your brain right out of your head . ' xxunk \\n\\n xxmaj patti ( christina xxmaj ricci ) is a xxunk xxunk girl , bored with her all - too - average little town . xxmaj bored that is until a woman is kidnapped and she finds what she believes to be clues to the poor lady 's xxunk . xxmaj now , with the help of her precious cat ` xxunk . ' and an inept xxup fbi agent ( doug xxup e. xxmaj doug ) she must find her . \\n\\n xxmaj that xxmaj xxunk xxmaj cat is a bad movie . xxmaj it is quite foolish and it has humor that often falls quite flat . xxmaj there are , however , a few xxunk of talent in it . xxmaj doug xxup e. xxmaj doug was good in xxmaj cool xxmaj xxunk . xxmaj his performance as ` xxunk ' was really funny . xxmaj here he is wasted as the xxunk xxup fbi agent . xxmaj he does have a good scene when he xxunk the cat , though . xxmaj xxunk xxmaj xxunk plays xxmaj patti 's father . xxmaj his character must be the most xxunk xxunk to ever live . xxmaj this poor guy has his expensive xxunk xxunk , gets xxunk for xxunk up his own cat , and gets xxunk - at by his xxunk wife and xxup still does n't get angry at his daughter for xxunk all of his xxunk . i wish my old man was like that . xxmaj the only real good performance is xxmaj christina xxmaj ricci 's . xxmaj she entertaining as the ever - annoyed xxmaj patti , but her occasional very bad dialogue xxunk her performance down . xxmaj you might also xxunk xxmaj peter xxmaj xxunk ( young xxmaj xxunk , xxmaj everybody xxmaj loves xxmaj xxunk ) , the old lady from xxmaj xxunk and xxmaj xxunk from xxmaj xxunk , in this movie . xxmaj this is a movie that all these actors would probably like to forget . xxmaj even the cat is n't very good … i really ca n't recommend 1997 's xxmaj that xxmaj xxunk xxmaj cat . xxmaj some young children ( under xxunk might enjoy it a bit , but every one else should look elsewhere . xxmaj if you 're looking for a good xxmaj christina xxmaj ricci movie , i suggest xxmaj xxunk xxmaj family xxmaj values , xxmaj the xxmaj opposite of xxmaj sex or xxmaj xxunk xxmaj xxunk . xxmaj if a fun family film is what you 're after , try xxmaj snow xxmaj day , instead .\""
            ],
            "application/vnd.google.colaboratory.intrinsic+json": {
              "type": "string"
            }
          },
          "metadata": {},
          "execution_count": 25
        }
      ],
      "source": [
        "' '.join(num.vocab[o] for o in nums[0])"
      ]
    },
    {
      "cell_type": "code",
      "execution_count": null,
      "metadata": {
        "colab": {
          "base_uri": "https://localhost:8080/"
        },
        "id": "L7p9ml2ZAR9Z",
        "outputId": "74641c5d-6327-4cec-bc88-4579c8da4acd"
      },
      "outputs": [
        {
          "output_type": "execute_result",
          "data": {
            "text/plain": [
              "2024"
            ]
          },
          "metadata": {},
          "execution_count": 26
        }
      ],
      "source": [
        "len(num.vocab)"
      ]
    },
    {
      "cell_type": "code",
      "execution_count": null,
      "metadata": {
        "colab": {
          "base_uri": "https://localhost:8080/"
        },
        "id": "Qz8o25mYSlJH",
        "outputId": "2b0e9570-912f-4054-fc25-73509fdb9d99"
      },
      "outputs": [
        {
          "output_type": "execute_result",
          "data": {
            "text/plain": [
              "('xxunk', 'surprisingly')"
            ]
          },
          "metadata": {},
          "execution_count": 27
        }
      ],
      "source": [
        "num.vocab[0], num.vocab[1619]"
      ]
    },
    {
      "cell_type": "code",
      "execution_count": null,
      "metadata": {
        "colab": {
          "base_uri": "https://localhost:8080/"
        },
        "id": "1as_nXqW8p-d",
        "outputId": "f77deb09-724f-44eb-fcf8-c782d4e94365"
      },
      "outputs": [
        {
          "output_type": "execute_result",
          "data": {
            "text/plain": [
              "('victims', 'of')"
            ]
          },
          "metadata": {},
          "execution_count": 28
        }
      ],
      "source": [
        "num.vocab[926], num.vocab[14]"
      ]
    },
    {
      "cell_type": "code",
      "execution_count": null,
      "metadata": {
        "colab": {
          "base_uri": "https://localhost:8080/"
        },
        "id": "Y9XFNpxqS6z0",
        "outputId": "ce7f2b8e-4d5c-4152-c656-5fd17ac3b025"
      },
      "outputs": [
        {
          "output_type": "execute_result",
          "data": {
            "text/plain": [
              "0"
            ]
          },
          "metadata": {},
          "execution_count": 29
        }
      ],
      "source": [
        "num.o2i[\"campbell\"]"
      ]
    },
    {
      "cell_type": "code",
      "execution_count": null,
      "metadata": {
        "colab": {
          "base_uri": "https://localhost:8080/"
        },
        "id": "63HNcHSbWGly",
        "outputId": "61926265-fd4b-4bfa-fa49-b62ef1c33215"
      },
      "outputs": [
        {
          "output_type": "execute_result",
          "data": {
            "text/plain": [
              "(TensorText([  0,  12,   0,   0, 271,   0,   0,   0]),\n",
              " TensorText([  0,  12,   0,   0, 271,   0,   0,   0]))"
            ]
          },
          "metadata": {},
          "execution_count": 30
        }
      ],
      "source": [
        "num(\"campbell\"), num.encodes(\"campbell\")"
      ]
    },
    {
      "cell_type": "code",
      "execution_count": null,
      "metadata": {
        "colab": {
          "base_uri": "https://localhost:8080/"
        },
        "id": "rdcbSva-T1Qz",
        "outputId": "525d0e3b-ebfa-486c-b0b8-b60bbbfb75d8"
      },
      "outputs": [
        {
          "output_type": "stream",
          "name": "stdout",
          "text": [
            "['xxunk', 'xxpad', 'xxbos', 'xxeos', 'xxfld', 'xxrep', 'xxwrep', 'xxup', 'xxmaj', 'the', '.', ',', 'a', 'and', 'of', 'to', 'is', 'i', 'it', 'this', 'in', 'that', '\"', \"'s\", '-', 'was', 'movie', '\\n\\n', 'for', 'with', \"n't\", 'you', 'but', 'as', 'on', ')', '(', 'have', 'not', 'are', 'film', 'they', 'all', 'be', 'he', 'at', 'one', 'do', 'his', 'so', 'like', 'if', 'from', 'an', '?', 'by', 'who', 'or', 'there', 'just', 'about', '!', 'out', 'her', 'would', 'she', 'when', \"'\", 'what', 'even', 'has', 'bad', 'up', 'no', 'more', 'only', 'time', 'some', '…', 'we', 'my', 'good', 'were', 'me', 'can', 'really', 'did', 'get', 'had', 'very', 'story', 'than', 'been', ':', 'see', 'movies', 'much', 'make', 'could', 'because', 'any', 'does', 'made', 'into', 'which', 'how', 'other', 'your', 'people', 'acting', 'first', 'after', 'watch', 'their', 'him', 'little', 'also', 'well', 'most', 'will', 'think', 'then', 'plot', 'better', 'many', 'too', 'them', '/', 'off', 'why', 'know', 'ever', '3', 'nothing', 'another', 'its', 'here', 'life', 'now', 'man', 'should', 'where', 'being', 'character', 'seen', 'say', 'go', 'way', 'two', 'over', 'never', 'still', 'actually', \"'m\", 'through', 'end', 'characters', ';', 'thing', 'show', 'down', 'these', 'worst', 'scene', 'lot', 'such', 'horror', 'watching', 'gets', 'real', 'ca', \"'re\", 'got', 'look', 'films', 'before', 'around', 'back', 'director', 'best', 'something', 'am', '2', 'few', 'guy', 'old', 'great', 'interesting', 'though', 'scenes', \"'ll\", 'want', 'actors', 'least', 'pretty', 'far', 'funny', 'enough', 'new', '*', 'take', 'us', 'while', 'whole', '10', 'money', \"'ve\", 'stupid', 'work', 'young', '1', 'thought', 'again', 'found', 'give', 'love', 'going', 'find', 'awful', 'years', 'quite', 'every', 'believe', 'part', 'may', 'minutes', 'times', 'script', 'things', 'long', 'looking', '4', 'without', 'shows', 'must', 'probably', 'last', 'half', 'world', 'kind', 'those', 'same', 'simply', 'big', \"'d\", 'series', 'both', '--', 'however', 'own', 'looks', 'makes', 'tv', 'during', 'almost', 'year', 'seems', 'point', 'comedy', 'done', 'worth', 'sure', 'anything', 'yet', 'start', 'wrong', 'example', 'everyone', 'dracula', 'try', 'said', 'b', '..', 'cast', 'rather', 'come', 'kill', 'fact', 'someone', 'right', 'horrible', 'music', 'night', 'place', 'everything', 'either', 'always', 'left', 'waste', 'job', 'original', 'put', 'boring', 'might', 'else', 'piece', 'hard', 'idea', 'school', 'low', 'worse', 'mind', 'oh', 'screen', 'since', 'dvd', 'three', 'called', 'michael', 'help', 'plays', 'instead', 'seeing', 'full', 'yes', 'saw', 'tell', 'ok', 'action', 'effects', 'blood', 'video', 'takes', 'each', 'rourke', 'poor', 'day', 'ending', 'reason', 'short', 'came', 'having', 'star', 'care', 'anyone', 'absolutely', 'watched', 'need', 'budget', 'less', 'main', 'play', 'home', 'away', 'terrible', 'finally', 'book', 'father', 'maybe', 'once', 'making', 'friends', '5', 'dead', 'course', 'along', 'let', 'high', 'sound', 'police', 'himself', 'quality', 'between', 'american', 'used', 'hour', 'god', 'girl', 'until', 'woman', 'bit', 'went', 'next', 'goes', 'our', 'written', 'second', 'special', 'game', 'local', 'hollywood', 'supposed', 'kids', 'live', 'wife', 'family', 'able', 'ed', 'comes', 'space', 'flick', 'run', 'behind', 'set', 'mean', 'completely', 'fans', 'title', 'sort', 'totally', 'annoying', 'role', 'feel', 'guess', 'child', 'trying', 'gable', 'head', 'cat', 'fun', 'silly', 'obvious', 'rest', 'sci', 'fi', 'side', 'perhaps', 'version', 'seem', 'killer', 'doing', 'friend', 'looked', 'later', 'given', 'knows', 'age', 'above', 'playing', 'ridiculous', 'hell', 'kid', 'van', 'together', 'stars', 'falls', 'dialogue', 'recommend', 'crap', 'laugh', '6', 'women', 'order', 'etc', 'top', 'viewer', 'throughout', 'definitely', 'line', 'thriller', 'case', 'camera', 'kasparov', 'computer', 'white', 'already', 'men', 'black', 'read', 'felt', 'apparently', 'production', 'poorly', 'jackson', 'problem', 'scarecrow', 'conrad', 'town', 'finds', 'wasted', 'enjoy', 'lost', 'sit', 'exactly', 'basically', 'bunch', 'happens', 'thinking', 'itself', 'guys', 'obviously', 'pay', 'chess', 'against', 'person', 'expect', 'based', 'hey', 'please', 'couple', 'predictable', 'add', 'buy', 'except', 'john', 'team', 'taking', 'body', 'cool', 'entertaining', 'sex', 'turned', 'fan', 'gone', 'lives', 'attempt', 'nearly', 'different', 'girls', 'decent', 'complete', 'island', 'possible', 'joe', 'turn', 'human', 'dull', 'use', 'fall', 'started', 'crime', 'actual', 'future', 'remember', 'deep', 'played', 'voice', 'saying', 'nice', 'face', 'group', 'drink', 'store', 'quickly', 'dialog', 'lines', 'especially', 'ten', 'moore', 'running', 'vampire', 'helsing', 'tom', 'cinema', 'days', 'husband', 'often', 'performance', 'wish', 'wo', 'name', 'stop', 'missing', 'earth', 'true', 'land', 'killing', 'editing', 'non', 'highly', 'anyway', 'eyes', 'hope', 'wanted', 'negative', 'cover', 'fake', 'modern', 'documentary', 'audience', 'boy', 'keep', 'write', 'sense', 'picture', 'beginning', 'ask', 'past', 'mother', 'evil', 'leaves', 'car', 'involved', 'hours', 'early', 'parts', 'killed', 'drama', 'company', 'weak', 'pieces', 'asked', 'hate', 'devil', 'club', 'force', 'bored', 'peter', 'children', 'under', 'garbage', 'whether', 'meet', 'spend', 'room', '&', '9', 'sometimes', 'hit', 'sucks', 'list', 'serious', 'channel', 'says', 'move', 'figure', 'acted', '8', 'actor', 'several', 'bottom', 'whom', 'note', 'games', 'match', 'told', 'myself', 'becomes', 'reading', 'save', 'doubt', 'gives', 'strange', 'society', 'catch', 'seriously', 'seemed', 'lame', 'murder', 'beyond', 'scary', 'waiting', 'cgi', 'forced', 'moments', 'lone', 'honestly', 'british', 'ones', 'count', 'roche', 'speak', 'tried', 'fast', 'number', 'forward', 'reviews', 'son', 'lead', 'slow', 'war', 'kronk', 'talent', 'daughter', 'city', 'hold', 'mess', 'easy', 'themselves', 'self', 'particularly', 'truly', 'beautiful', 'question', 'personal', 'trash', 'telling', 'gore', 'act', 'bodies', 'excuse', 'close', 'sorry', 'usually', 'level', 'wonder', 'coming', 'rating', 'imdb', 'check', 'form', 'whatever', 'executed', 'released', 'writing', 'blue', 'players', 'word', 'opening', 'clearly', 'stage', 'stuff', 'members', 'rent', 'decided', 'send', 'earthquake', 'building', 'viewers', 'unlike', 'site', 'boys', 'due', 'yeah', 'york', 'interest', 'cheap', 'loved', 'house', 'ago', 'mystery', 'open', 'allen', 'memorable', 'getting', 'reality', 'spent', 'tension', 'hot', 'direction', '$', 'wait', 'search', 'race', 'tries', 'final', 'performances', 'roles', 'odd', 'triangle', 'knew', '\\x85', 'male', 'okay', 'train', 'decide', 'failed', 'sara', 'power', 'average', 'lady', 'flat', 'loves', 'following', 'actress', 'indeed', 's', 'london', 'understand', 'ahead', 'using', 'hilarious', 'chance', 'alien', 'living', 'storyline', 'somewhat', 'premise', 'america', 'class', 'known', 'comments', 'road', 'light', 'insult', 'attempts', 'stand', 'footage', 'seconds', 'hardly', 'imagine', 'hands', 'explain', 'experience', 'heart', 'needed', 'ways', 'heard', 'mr', 'david', 'writer', 'driving', 'gang', 'hand', 'turns', '80s', 'rental', 'gave', 'despite', 'english', 'herself', 'large', 'liked', 'release', 'art', 'smart', 'unbelievable', 'ranger', 'pathetic', 'third', 'secret', 'ends', 'relationship', 'appreciate', 'career', 'free', 'skeleton', 'entire', 'song', 'king', 'price', 'happy', 'review', 'middle', 'neither', 'cushing', 'flesh', 'fight', 'water', 'ugly', 'five', 'background', 'army', 'arts', 'extremely', 'death', 'intended', 'amy', 'alexander', 'charlie', 'disaster', 'sequel', 'soon', 'summer', 'bishop', 'kevin', 'style', 'church', 'took', 'ice', 'late', 'revenge', 'suck', 'doug', 'humor', 'u', 'sick', 'week', '15', 'amazing', 'shot', 'otherwise', 'shots', 'mouth', 'female', 'inside', 'stranger', 'crash', 'somewhere', 'cute', 'sets', 'follow', 'frankly', 'unless', 'happen', 'lots', 'carry', 'italian', 'redeeming', 'truth', 'girlfriend', 'christopher', 'starts', 'unknown', 'view', 'max', 'gon', 'na', 'pointless', 'player', 'turk', 'working', 'beat', 'strong', 'today', 'likely', 'including', 'major', 'score', 'meant', 'particular', 'overall', 'reasons', 'effort', 'porn', 'straight', 'history', 'positive', 'remaining', 'important', 'ideas', 'wood', 'public', 'sad', 'appeal', 'longer', 'certain', 'mutant', 'kills', 'pop', 'dumb', 'needs', 'directing', 'certainly', 'moment', 'finish', 'victims', 'ghost', 'hair', 'science', 'near', 'jazz', 'shooting', 'events', 'fairly', 'dragged', 'priest', 'huge', 'musical', '80', 'somehow', 'avoid', 'dirty', 'worthwhile', 'manages', 'matrix', 'comparison', 'message', 'personality', 'dark', 'bomb', 'wants', 'works', 'hear', 'suspense', 'pace', 'mentioned', 'fails', 'shoot', 'zombie', 'although', 'parents', 'chick', 'watchable', 'giving', 'rich', 'happened', 'alone', 'eventually', 'religious', '1972', 'mad', 'squad', 'ninja', 'martial', 'gold', 'unfortunately', 'suddenly', 'call', 'pick', 'lee', 'feeling', 'picked', 'theme', 'moving', 'bring', 'lord', 'change', 'dog', 'matter', 'disney', 'religion', 'dawkins', 'cream', 'alucard', 'dad', '`', 'brain', 'christina', 'forget', '1997', 'elsewhere', 'lambert', 'classic', 'unusual', 'skip', 'spoiler', 'party', 'monster', 'simple', 'dies', 'mysterious', 'yourself', 'damn', 'journey', 'sun', 'similar', 'apart', 'dying', 'type', 'deal', 'directed', 'embarrassing', 'slasher', 'copy', 'drag', 'charming', 'exciting', 'below', 'mention', 'various', 'shut', 'creepy', 'o', 'hint', 'shocked', 'recent', 'crew', 'screenplay', 'glad', 'supposedly', 'shown', 'tells', 'points', 'places', 'states', 'potential', 'general', 'mo', 'cinematic', 'revealed', 'plastic', 'alright', 'faced', 'post', 'drinking', '7', 'jr', 'gein', 'credits', 'field', 'earlier', 'standard', 'lugosi', 'jokes', 'meaning', 'college', 'mostly', 'battle', 'talk', 'became', 'continuity', 'historical', 'un', 'plain', 'kick', 'project', 'aside', 'result', 'dancing', 'studio', 'paid', 'brother', 'trouble', 'ran', 'baby', 'goofy', 'vampires', 'casting', 'runner', 'successful', 'green', 'clayton', 'brought', 'violence', 'jesus', 'cash', 'novel', 'jerry', 'small', 'episode', 'episodes', 'producers', 'tart', '0', 'leads', 'rock', 'overly', 'mainly', 'others', 'wild', 'yawn', 'date', 'adaptation', 'caught', 'sinister', 'material', 'bother', 'i.e.', 'included', 'depth', 'incredibly', 'greece', 'minotaur', 'asking', 'seemingly', 'camp', 'convincing', 'utterly', 'scream', 'soundtrack', 'ride', 'laughing', 'stories', 'adults', 'attack', 'cheesy', 'fighting', 'cares', 'missed', 'bermuda', 'laughable', 'mass', 'underwater', 'lesson', 'cut', 'cable', 'barely', 'possibly', 'taken', 'occasionally', 'blind', 'images', 'zombies', 'cops', 'cliché', 'groove', 'golf', 'wooden', 'crazy', 'holes', 'genius', 'destroy', 'bridge', '50', 'drive', 'bates', 'boat', 'cinderella', 'gamera', 'invisible', 'agents', 'marta', 'frightmare', 'pumpkinhead', 'ricci', 'precious', 'agent', 'angry', 'everybody', 'snow', 'disgusting', 'nose', 'eat', 'invented', 'cult', 'rates', 'theatre', 'imagery', 'considered', 'leave', 'member', 'ski', 'naked', 'flicks', 'walking', 'questions', 'murders', 'morning', 'brains', 'onto', 'wall', 'difference', 'showed', 'reverse', 'featured', 'exception', 'horse', 'mid', 'murdered', 'heads', 'serves', 'purpose', 'dangerous', 'plausible', 'confusing', 'stopped', 'scifi', 'front', 'record', 'thinks', 'bizarre', 'accent', 'hotel', 'manager', 'co', 'comic', 'compare', 'jones', 'proceedings', 'curious', 'wrote', 'dare', 'common', 'resurrection', 'double', 're', 'n', 'image', 'h', 'six', '_', 'detective', 'trust', 'aspect', 'literally', 'four', 'talking', 'w', 'filmmakers', 'furthermore', 'defense', 'ultimately', 'v.i.p', 'term', 'ogrodnik', 'rat', 'awesome', 'students', 'viewing', 'massive', 'bigger', 'butcher', 'kane', 'fly', 'mistake', 'pull', 'snafuperman', 'private', 'snafu', 'laughs', 'entertainment', 'usual', 'bela', 'atrocious', 'channels', 'absolute', 'speed', 'opera', 'park', 'assume', 'disappointed', 'mst3k', 'heroes', 'blame', 'rented', 'support', 'cases', 'caused', 'shocking', 'harsh', 'grudge', 'air', 'hospital', 'efforts', 'portraying', 'theaters', 'excellent', 'hero', '30', 'sat', 'eddie', 'sexual', 'spot', 'ratings', 'feature', 'popular', 'mexican', 'broken', 'keeping', 'captain', 'means', 'cross', 'chest', 'package', 'bed', 'added', 'jerk', 'thanks', 'news', 'president', 'dobbs', 'jack', 'wins', 'alan', 'saving', 'americans', 'justice', 'box', 'personally', 'street', 'proper', 'clear', 'fill', 'lack', 'language', 'biggest', 'produced', 'within', 'crying', 'words', 'corpses', 'fair', '\\n\\n ', 'super', '100', 'details', 'single', 'hilton', 'sorts', 'considering', 'source', 'acts', 'problems', 'plots', 'corny', 'dr', 'stands', 'moves', 'accept', 'explanation', 'donald', 'pleasance', 'turkey', 'whatsoever', 'excited', 'remotely', 'eye', 'milo', 'robert', 'halfway', 'disappointing', 'loud', 'carnival', 'worked', 'facial', 'teenagers', 'basement', 'perfect', '20', 'numbers', 'ended', 'theater', 'wilson', 'greatest', 'tend', 'joke', 'responsible', 'agree', 'previous', 'willing', 'hundred', 'meeting', 'lessons', 'sell', 'empty', 'vincent', '\\x96', 'period', 'emotion', 'inspired', 'skin', 'racism', 'portrayed', 'extreme', 'stereotypes', 'writers', 'success', 'nor', 'knowing', 'favor', 'suited', 'marie', 'outside', 'sutherland', 'ability', 'faster', 'psychic', 'western', 'unnecessary', 'singing', 'kurosawa', 'pacing', 'bus', 'ridiculously', 'serial', 'hinted', 'finished', 'filmed', 'notice', 'ford', 'museum', 'eating', 'warriors', 'sequence', 'color', 'coach', 'hired', 'backwards', 'fell', 'clichés', 'table', 'visit', 'biker', 'equivalent', 'setting', 'across', 'teach', 'french', 'chase', 'return', 'category', 'wilkinson', 'chemistry', 'actions', 'ring', 'figured', 'thin', 'doll', 'james', 'giant', 'weather', 'truck', 'rival', 'adam', 'thrown', 'suicide', 'civilisation', 'believer', 'proof', 'entirely', 'anne', 'immediately', 'milligan', 'princess', 'thank', 'shark', 'pass', 'douglas', '’s', 'rugrats', 'ship', 'a.d', 'hammer', 'dim', 'beast', 'it`s', 'ricky', 'patti', 'kidnapped', 'believes', 'clues', 'inept', 'fbi', 'e.', 'foolish', 'expensive', 'annoyed', 'occasional', 'suggest', 'values', 'opposite', 'junk', 'weird', 'woods', 'latest', 'y', 'treat', 'dreadful', 'gay', 'push', 'length', 'cinematography', 'japanese', 'raised', 'prison', 'contact', 'doctor', 'forth', 'wet', 'pants', 'guarantee', 'dinner', 'concerns', '1969', 'fame', 'parallel', 'features', '12', 'humans', 'utter', 'west', 'load', 'tho', 'immortal', 'bound', 'visual', 'trailer', 'filming', 'rate', 'brilliant', 'amateurish', 'england', 'dick', 'die', '25', 'lets', 'trademark', 'obnoxious', 'fine', 'dean', 'killers', 'account', 'seven', 'reminded', 'deserve', 'aware', 'fancy', '-.-', 'mine', 'chief', 'feelings', 'logic', 'minute', 'fail', 'r', 'pile', 'celluloid', 'paper', 'surely', 'internet', 'buying', 'built', 'century', 'degree', 'helpless', 'campaign', 'ad', 'door', 'present', 'granted', 'position', 'naturally', 'nobody', 'warn', 'include', 'analysis', 'explained', 'gotten', 'flashes', 'information', 'irony', 'starring', 'posing', 'hip', 'random', 'ourselves', 'photography', 'teaches', 'created', '13', 'none', 'amount', 'nude', 'appear', 'gun', 'punch', 'stupidity', 'facts', 'uses', 'state', 'adding', 'plainfield', 'shelves', 'ruins', 'focus', 'studying', 'topic', 'feels', 'surprisingly', 'creative', 'bondage', 'subject', 'drug', 'joined', 'sitting', 'stretch', 'twice', 'ha', 'originality', 'lose', 'poster', 'giger', 'leader', 'splatter', 'hunt', 'texas', 'pro', 'weapons', 'anti', 'freak', 'radiation', 'dance', 'epic', 'blows', 'wondering', 'genre', 'comics', 'cliche', 'scenery', 'pompous', 'total', 'stunned', 'greatly', 'ass', 'exorcist', 'spirit', 'began', 'opportunity', 'country', 'paying', 'monsters', 'follows', 'russians', 'woody', 'sean', 'penn', 'relationships', 'apes', 'captured', 'painfully', 'embarrassed', 'comment', 'chinese', 'hopper', 'trapped', 'grease', 'asleep', 'toward', 'incomprehensible', 'richard', 'dozens', 'student', 'johnny', 'wow', 'embarrassment', 'luke', 'sitcom', 'screwed', 'krasinski', 'ala', 'lock', 'stock', 'magnum', 'fiction', 'producer', 'crucifix', 'george', 'ambient', 'shuffling', 'sees', 'stay', 'noise', 'host', 'initially', 'eleanor', 'laura', 'owner', 'jeff', 'newly', 'awkward', 'professional', 'retired', 'upper', 'uh', 'area', 'reach', 'sadly', 'superior', 'spends', 'possibility', 'demme', 'de', 'murray', 'prime', 'bank', 'ruin', 'putting', 'rubbish', 'includes', 'rob', 'spoilers', 'drugs', 'roll', 'heavy', 'handed', 'messages', 'edge', 'sisters', 'break', '17', 'phillips', 'bully', 'sister', 'remains', 'business', 'renting', 'met', 'widow', 'translation', 'deleted', 'marry', 'rendered', 'admit', 'fear', '1980s', 'silver', 'mark', 'lengthy', 'required', 'anywhere', 'trip', 'development', 'perform', '90s', 'shuttle', 'frustrating', 'occur', 'talents', 'remain', 'arrives', 'beliefs', 'variety', 'narrative', 'dreadfully', 'vision', 'masterpiece', 'favorite', 'finding', 'bargain', 'troma', 'pure', 'historically', 'names', '300', 'feat', 'pretentious', 'needless', 'abuse', 'dreams', 'tired', 'fully', 'industry', 'product', 'originally', 'strangely', 'ironic', 'believed', 'bite', 'effect', 'damned', 'bothering', 'latter', 'event', 'partying', 'forgotten', 'finale', 'directs', 'learned', 'marketing', 'attention', 'namely', 'threw', 'earned', 'narration', 'formula', 'genuine', 'inexplicably', 'hbo', 'likes', 'attitude', 'walter', 'lacked', 'haggis', 'concept', 'impression', 'discovered', 'covered', 'paul', 'directors', 'blowing', 'fresh', 'named', 'inspiration', 'bought', 'multi', 'johnson', 'intensity', 'flex', 'supporting', 'wedding', 'married', 'submarine', 'crossing', 'sheen', 'garage', 'bashing', 'violent', 'awhile', 'becoming', 'easily', 'activity', 'pictures', '18', 'tough', 'babes', 'enjoyable', 'advice', 'forty', 'interrupted', 'generic', 'checking', 'manner', 'pain', 'torture', 'romania', 'stadium', 'soccer', 'steaua', 'bucuresti', 'scoreboard', 'championship', 'impossible', 'grave', 'rip', 'rated', 'regarding', 'equally', 'russian', 'ancient', 'zero', 'kinda', 'filled', 'besides', 'superb', 'likable', 'asks', '-and', 'absurd', 'walk', 'horses', '90', 'endless', 'opinion', 'investigate', 'severed', 'weeks', 'returns', 'congo', 'neat', 'jump', 'crashes', 'energy', 'lacking', 'touch', 'singer', 'enemy', 'german', 'mental', 'undead', 'bloody', 'fish', 'scientist', 'tastes', 'dennis', 'studios', 'lousy', 'andy', 'era', 'danny', 'sanctuary', 'leaving', 'mason', 'hartounian', 'pitched', 'deeply', 'jessica', 'catholic', 'fit', 'badly', 'moral', 'born', 'shop', 'happening', 'watson', 'breaking', 'control', 'expects', 'angel', 'sings', 'x', 'sleep', 'chic', 'months', 'hank', 'typical', 'larry', 'overlong', 'uniformly', 'deals', 'wonderful', 'mobster', 'semi', 'sleeping', 'red', 'boss', 'sandler', 'knocking', 'culture', 'unbelievably', 'nature', 'disturbing', 'jim', 'foreign', 'jay', 'individual', 'mindless', 'trick', 'atheist', 'faith', 'taught', 'dismissal', 'animals', 'pius', 'emilio', 'appears', 'convince', 'survivors', 'upon', 'costumes', 'psychology', 'meaningful', 'emerging', 'changes', 'rice', 'chronicles', 'log', 'bloodthirsty', 'butchers', 'wealth', 'niece', 'clothes', 'evening', 'diamond', 'notable', 'san', 'macdonald', 'holt', 'safe', 'audio', 'silent', 'melodramatic', 'target', 'exact', 'astaire', 'fairbanks', 'krige', 'wasson', 'gruesome', 'colton', 'become', '1950', 'viras', 'witted', 'marty', 'honeymoon', 'oil', 'ava', 'xxfake', 'xxfake', 'xxfake', 'xxfake', 'xxfake', 'xxfake']\n"
          ]
        }
      ],
      "source": [
        "print(num.vocab)"
      ]
    },
    {
      "cell_type": "code",
      "execution_count": null,
      "metadata": {
        "id": "GvmP16mlVSrJ"
      },
      "outputs": [],
      "source": [
        "### now going for the language model\n",
        "\n",
        "num200 = toks200.map(num)\n",
        "dl = LMDataLoader(num200)"
      ]
    },
    {
      "cell_type": "code",
      "execution_count": null,
      "metadata": {
        "colab": {
          "base_uri": "https://localhost:8080/"
        },
        "id": "vuDM85p8LmjA",
        "outputId": "e4759540-de90-4bb9-efe1-ea4d53f38fe6"
      },
      "outputs": [
        {
          "output_type": "execute_result",
          "data": {
            "text/plain": [
              "(torch.Size([64, 72]), torch.Size([64, 72]))"
            ]
          },
          "metadata": {},
          "execution_count": 33
        }
      ],
      "source": [
        "x, y = first(dl)\n",
        "x.shape, y.shape"
      ]
    },
    {
      "cell_type": "code",
      "execution_count": null,
      "metadata": {
        "colab": {
          "base_uri": "https://localhost:8080/",
          "height": 35
        },
        "id": "5vP2qrX5Lqa_",
        "outputId": "d178bc84-8cd9-427a-ef94-9ceba868afcd"
      },
      "outputs": [
        {
          "output_type": "execute_result",
          "data": {
            "text/plain": [
              "\"xxbos ` it 's as if this town has the power to suck your brain right out of your head\""
            ],
            "application/vnd.google.colaboratory.intrinsic+json": {
              "type": "string"
            }
          },
          "metadata": {},
          "execution_count": 34
        }
      ],
      "source": [
        "' '.join(num.vocab[o] for o in x[0][:20])"
      ]
    },
    {
      "cell_type": "code",
      "execution_count": null,
      "metadata": {
        "id": "dBRrKAGkP_6c"
      },
      "outputs": [],
      "source": [
        "get_imdb = partial(get_text_files, folders=['train', 'test', 'unsup'])"
      ]
    },
    {
      "cell_type": "code",
      "source": [
        "dls_lm = DataBlock(\n",
        "    blocks=TextBlock.from_folder(path, is_lm=True),\n",
        "    get_items=get_imdb, splitter=RandomSplitter(0.1)\n",
        ").dataloaders(path, path=path, bs=128, seq_len=80)"
      ],
      "metadata": {
        "colab": {
          "base_uri": "https://localhost:8080/",
          "height": 72
        },
        "id": "fp1p5OOcRTBv",
        "outputId": "01fad22f-26f1-46ad-dc92-bab3d287519e"
      },
      "execution_count": null,
      "outputs": [
        {
          "output_type": "stream",
          "name": "stderr",
          "text": [
            "/usr/local/lib/python3.10/dist-packages/spacy/util.py:1740: UserWarning: [W111] Jupyter notebook detected: if using `prefer_gpu()` or `require_gpu()`, include it in the same cell right before `spacy.load()` to ensure that the model is loaded on the correct device. More information: http://spacy.io/usage/v3#jupyter-notebook-gpu\n",
            "  warnings.warn(Warnings.W111)\n"
          ]
        },
        {
          "output_type": "display_data",
          "data": {
            "text/plain": [
              "<IPython.core.display.HTML object>"
            ],
            "text/html": [
              "\n",
              "<style>\n",
              "    /* Turns off some styling */\n",
              "    progress {\n",
              "        /* gets rid of default border in Firefox and Opera. */\n",
              "        border: none;\n",
              "        /* Needs to be in here for Safari polyfill so background images work as expected. */\n",
              "        background-size: auto;\n",
              "    }\n",
              "    progress:not([value]), progress:not([value])::-webkit-progress-bar {\n",
              "        background: repeating-linear-gradient(45deg, #7e7e7e, #7e7e7e 10px, #5c5c5c 10px, #5c5c5c 20px);\n",
              "    }\n",
              "    .progress-bar-interrupted, .progress-bar-interrupted::-webkit-progress-bar {\n",
              "        background: #F44336;\n",
              "    }\n",
              "</style>\n"
            ]
          },
          "metadata": {}
        },
        {
          "output_type": "display_data",
          "data": {
            "text/plain": [
              "<IPython.core.display.HTML object>"
            ],
            "text/html": []
          },
          "metadata": {}
        }
      ]
    },
    {
      "cell_type": "code",
      "source": [
        "dls_lm.show_batch(max_n=2)"
      ],
      "metadata": {
        "colab": {
          "base_uri": "https://localhost:8080/",
          "height": 390
        },
        "id": "5ZVdt9DjRqt4",
        "outputId": "42572bd4-1e11-4a7a-eb4f-2f032bda5073"
      },
      "execution_count": null,
      "outputs": [
        {
          "output_type": "display_data",
          "data": {
            "text/plain": [
              "<IPython.core.display.HTML object>"
            ],
            "text/html": [
              "<table border=\"1\" class=\"dataframe\">\n",
              "  <thead>\n",
              "    <tr style=\"text-align: right;\">\n",
              "      <th></th>\n",
              "      <th>text</th>\n",
              "      <th>text_</th>\n",
              "    </tr>\n",
              "  </thead>\n",
              "  <tbody>\n",
              "    <tr>\n",
              "      <th>0</th>\n",
              "      <td>xxbos xxmaj not for the first time , xxmaj i 'm out of kilter with the majority view . xxmaj oz is a dreadful , pretentious , voyeuristic series . xxmaj the makers have their cake and eat it . xxmaj oz , xxmaj em xxmaj city , etc are used as xxunk crude signals that the apparent grittiness is complete fantasy . xxmaj this allows viewers the feeblest of intellectual excuses to watch soap operatic nonsense spiced with everything</td>\n",
              "      <td>xxmaj not for the first time , xxmaj i 'm out of kilter with the majority view . xxmaj oz is a dreadful , pretentious , voyeuristic series . xxmaj the makers have their cake and eat it . xxmaj oz , xxmaj em xxmaj city , etc are used as xxunk crude signals that the apparent grittiness is complete fantasy . xxmaj this allows viewers the feeblest of intellectual excuses to watch soap operatic nonsense spiced with everything that</td>\n",
              "    </tr>\n",
              "    <tr>\n",
              "      <th>1</th>\n",
              "      <td>want the job done right … \\n\\n xxmaj from the opening shot , the movie establishes its contempt for the audience 's attention span by showing an entirely unremarkable picture of an irrelevant bridge for a long , long time . xxmaj then it goes to some slow - motion skateboarding , which is at least a little bit cool , but then offsets that glimmer of excitement by overlaying the most repellent soundtrack song xxmaj i 've ever heard</td>\n",
              "      <td>the job done right … \\n\\n xxmaj from the opening shot , the movie establishes its contempt for the audience 's attention span by showing an entirely unremarkable picture of an irrelevant bridge for a long , long time . xxmaj then it goes to some slow - motion skateboarding , which is at least a little bit cool , but then offsets that glimmer of excitement by overlaying the most repellent soundtrack song xxmaj i 've ever heard .</td>\n",
              "    </tr>\n",
              "  </tbody>\n",
              "</table>"
            ]
          },
          "metadata": {}
        }
      ]
    },
    {
      "cell_type": "code",
      "source": [
        "learn = language_model_learner(\n",
        "    dls_lm, AWD_LSTM, drop_mult=0.3,\n",
        "    metrics=[accuracy, Perplexity()]).to_fp16()"
      ],
      "metadata": {
        "colab": {
          "base_uri": "https://localhost:8080/",
          "height": 92
        },
        "id": "P0QhC5KCT5Ur",
        "outputId": "55e4e84e-74ba-4237-fe36-b854eb2d30b9"
      },
      "execution_count": null,
      "outputs": [
        {
          "output_type": "display_data",
          "data": {
            "text/plain": [
              "<IPython.core.display.HTML object>"
            ],
            "text/html": [
              "\n",
              "<style>\n",
              "    /* Turns off some styling */\n",
              "    progress {\n",
              "        /* gets rid of default border in Firefox and Opera. */\n",
              "        border: none;\n",
              "        /* Needs to be in here for Safari polyfill so background images work as expected. */\n",
              "        background-size: auto;\n",
              "    }\n",
              "    progress:not([value]), progress:not([value])::-webkit-progress-bar {\n",
              "        background: repeating-linear-gradient(45deg, #7e7e7e, #7e7e7e 10px, #5c5c5c 10px, #5c5c5c 20px);\n",
              "    }\n",
              "    .progress-bar-interrupted, .progress-bar-interrupted::-webkit-progress-bar {\n",
              "        background: #F44336;\n",
              "    }\n",
              "</style>\n"
            ]
          },
          "metadata": {}
        },
        {
          "output_type": "display_data",
          "data": {
            "text/plain": [
              "<IPython.core.display.HTML object>"
            ],
            "text/html": [
              "\n",
              "    <div>\n",
              "      <progress value='105070592' class='' max='105067061' style='width:300px; height:20px; vertical-align: middle;'></progress>\n",
              "      100.00% [105070592/105067061 00:08&lt;00:00]\n",
              "    </div>\n",
              "    "
            ]
          },
          "metadata": {}
        },
        {
          "output_type": "stream",
          "name": "stderr",
          "text": [
            "/usr/local/lib/python3.10/dist-packages/fastai/text/learner.py:149: FutureWarning: You are using `torch.load` with `weights_only=False` (the current default value), which uses the default pickle module implicitly. It is possible to construct malicious pickle data which will execute arbitrary code during unpickling (See https://github.com/pytorch/pytorch/blob/main/SECURITY.md#untrusted-models for more details). In a future release, the default value for `weights_only` will be flipped to `True`. This limits the functions that could be executed during unpickling. Arbitrary objects will no longer be allowed to be loaded via this mode unless they are explicitly allowlisted by the user via `torch.serialization.add_safe_globals`. We recommend you start setting `weights_only=True` for any use case where you don't have full control of the loaded file. Please open an issue on GitHub for any issues related to this experimental feature.\n",
            "  wgts = torch.load(wgts_fname, map_location = lambda storage,loc: storage)\n"
          ]
        }
      ]
    },
    {
      "cell_type": "code",
      "source": [
        "learn.fit_one_cycle(1, 2e-2)"
      ],
      "metadata": {
        "colab": {
          "base_uri": "https://localhost:8080/",
          "height": 170
        },
        "id": "yWzJoKnVaMXr",
        "outputId": "4de3c17d-d22c-4232-b5bd-5a00b0010310"
      },
      "execution_count": null,
      "outputs": [
        {
          "output_type": "stream",
          "name": "stderr",
          "text": [
            "/usr/local/lib/python3.10/dist-packages/fastai/callback/fp16.py:47: FutureWarning: `torch.cuda.amp.autocast(args...)` is deprecated. Please use `torch.amp.autocast('cuda', args...)` instead.\n",
            "  self.autocast,self.learn.scaler,self.scales = autocast(dtype=dtype),GradScaler(**self.kwargs),L()\n",
            "/usr/local/lib/python3.10/dist-packages/fastai/callback/fp16.py:47: FutureWarning: `torch.cuda.amp.GradScaler(args...)` is deprecated. Please use `torch.amp.GradScaler('cuda', args...)` instead.\n",
            "  self.autocast,self.learn.scaler,self.scales = autocast(dtype=dtype),GradScaler(**self.kwargs),L()\n"
          ]
        },
        {
          "output_type": "display_data",
          "data": {
            "text/plain": [
              "<IPython.core.display.HTML object>"
            ],
            "text/html": [
              "\n",
              "<style>\n",
              "    /* Turns off some styling */\n",
              "    progress {\n",
              "        /* gets rid of default border in Firefox and Opera. */\n",
              "        border: none;\n",
              "        /* Needs to be in here for Safari polyfill so background images work as expected. */\n",
              "        background-size: auto;\n",
              "    }\n",
              "    progress:not([value]), progress:not([value])::-webkit-progress-bar {\n",
              "        background: repeating-linear-gradient(45deg, #7e7e7e, #7e7e7e 10px, #5c5c5c 10px, #5c5c5c 20px);\n",
              "    }\n",
              "    .progress-bar-interrupted, .progress-bar-interrupted::-webkit-progress-bar {\n",
              "        background: #F44336;\n",
              "    }\n",
              "</style>\n"
            ]
          },
          "metadata": {}
        },
        {
          "output_type": "display_data",
          "data": {
            "text/plain": [
              "<IPython.core.display.HTML object>"
            ],
            "text/html": [
              "<table border=\"1\" class=\"dataframe\">\n",
              "  <thead>\n",
              "    <tr style=\"text-align: left;\">\n",
              "      <th>epoch</th>\n",
              "      <th>train_loss</th>\n",
              "      <th>valid_loss</th>\n",
              "      <th>accuracy</th>\n",
              "      <th>perplexity</th>\n",
              "      <th>time</th>\n",
              "    </tr>\n",
              "  </thead>\n",
              "  <tbody>\n",
              "    <tr>\n",
              "      <td>0</td>\n",
              "      <td>4.009066</td>\n",
              "      <td>3.903978</td>\n",
              "      <td>0.300275</td>\n",
              "      <td>49.599346</td>\n",
              "      <td>21:56</td>\n",
              "    </tr>\n",
              "  </tbody>\n",
              "</table>"
            ]
          },
          "metadata": {}
        }
      ]
    },
    {
      "cell_type": "code",
      "source": [
        "learn.unfreeze()\n",
        "learn.fit_one_cycle(10, 2e-3)"
      ],
      "metadata": {
        "colab": {
          "base_uri": "https://localhost:8080/",
          "height": 389
        },
        "id": "4_S6BwTwYfFZ",
        "outputId": "3e643fff-f3e7-4d4b-e1c8-acd8fe0378c5"
      },
      "execution_count": null,
      "outputs": [
        {
          "metadata": {
            "tags": null
          },
          "name": "stderr",
          "output_type": "stream",
          "text": [
            "/usr/local/lib/python3.10/dist-packages/fastai/callback/fp16.py:47: FutureWarning: `torch.cuda.amp.autocast(args...)` is deprecated. Please use `torch.amp.autocast('cuda', args...)` instead.\n",
            "  self.autocast,self.learn.scaler,self.scales = autocast(dtype=dtype),GradScaler(**self.kwargs),L()\n",
            "/usr/local/lib/python3.10/dist-packages/fastai/callback/fp16.py:47: FutureWarning: `torch.cuda.amp.GradScaler(args...)` is deprecated. Please use `torch.amp.GradScaler('cuda', args...)` instead.\n",
            "  self.autocast,self.learn.scaler,self.scales = autocast(dtype=dtype),GradScaler(**self.kwargs),L()\n"
          ]
        },
        {
          "data": {
            "text/html": [
              "\n",
              "<style>\n",
              "    /* Turns off some styling */\n",
              "    progress {\n",
              "        /* gets rid of default border in Firefox and Opera. */\n",
              "        border: none;\n",
              "        /* Needs to be in here for Safari polyfill so background images work as expected. */\n",
              "        background-size: auto;\n",
              "    }\n",
              "    progress:not([value]), progress:not([value])::-webkit-progress-bar {\n",
              "        background: repeating-linear-gradient(45deg, #7e7e7e, #7e7e7e 10px, #5c5c5c 10px, #5c5c5c 20px);\n",
              "    }\n",
              "    .progress-bar-interrupted, .progress-bar-interrupted::-webkit-progress-bar {\n",
              "        background: #F44336;\n",
              "    }\n",
              "</style>\n"
            ],
            "text/plain": [
              "<IPython.core.display.HTML object>"
            ]
          },
          "metadata": {},
          "output_type": "display_data"
        },
        {
          "data": {
            "text/html": [
              "\n",
              "    <div>\n",
              "      <progress value='1' class='' max='10' style='width:300px; height:20px; vertical-align: middle;'></progress>\n",
              "      10.00% [1/10 23:18&lt;3:29:48]\n",
              "    </div>\n",
              "    \n",
              "<table border=\"1\" class=\"dataframe\">\n",
              "  <thead>\n",
              "    <tr style=\"text-align: left;\">\n",
              "      <th>epoch</th>\n",
              "      <th>train_loss</th>\n",
              "      <th>valid_loss</th>\n",
              "      <th>accuracy</th>\n",
              "      <th>perplexity</th>\n",
              "      <th>time</th>\n",
              "    </tr>\n",
              "  </thead>\n",
              "  <tbody>\n",
              "    <tr>\n",
              "      <td>0</td>\n",
              "      <td>3.750056</td>\n",
              "      <td>3.762678</td>\n",
              "      <td>0.316828</td>\n",
              "      <td>43.063602</td>\n",
              "      <td>23:18</td>\n",
              "    </tr>\n",
              "  </tbody>\n",
              "</table><p>\n",
              "\n",
              "    <div>\n",
              "      <progress value='1509' class='' max='2632' style='width:300px; height:20px; vertical-align: middle;'></progress>\n",
              "      57.33% [1509/2632 12:23&lt;09:12 3.7024]\n",
              "    </div>\n",
              "    "
            ],
            "text/plain": [
              "<IPython.core.display.HTML object>"
            ]
          },
          "metadata": {},
          "output_type": "display_data"
        },
        {
          "output_type": "display_data",
          "data": {
            "text/plain": [
              "<IPython.core.display.HTML object>"
            ],
            "text/html": [
              "\n",
              "    <div>\n",
              "      <progress value='3' class='' max='10' style='width:300px; height:20px; vertical-align: middle;'></progress>\n",
              "      30.00% [3/10 1:10:04&lt;2:43:29]\n",
              "    </div>\n",
              "    \n",
              "<table border=\"1\" class=\"dataframe\">\n",
              "  <thead>\n",
              "    <tr style=\"text-align: left;\">\n",
              "      <th>epoch</th>\n",
              "      <th>train_loss</th>\n",
              "      <th>valid_loss</th>\n",
              "      <th>accuracy</th>\n",
              "      <th>perplexity</th>\n",
              "      <th>time</th>\n",
              "    </tr>\n",
              "  </thead>\n",
              "  <tbody>\n",
              "    <tr>\n",
              "      <td>0</td>\n",
              "      <td>3.750056</td>\n",
              "      <td>3.762678</td>\n",
              "      <td>0.316828</td>\n",
              "      <td>43.063602</td>\n",
              "      <td>23:18</td>\n",
              "    </tr>\n",
              "    <tr>\n",
              "      <td>1</td>\n",
              "      <td>3.698340</td>\n",
              "      <td>3.703335</td>\n",
              "      <td>0.322989</td>\n",
              "      <td>40.582424</td>\n",
              "      <td>23:15</td>\n",
              "    </tr>\n",
              "    <tr>\n",
              "      <td>2</td>\n",
              "      <td>3.629084</td>\n",
              "      <td>3.654557</td>\n",
              "      <td>0.328431</td>\n",
              "      <td>38.650414</td>\n",
              "      <td>23:29</td>\n",
              "    </tr>\n",
              "  </tbody>\n",
              "</table><p>\n",
              "\n",
              "    <div>\n",
              "      <progress value='822' class='' max='2632' style='width:300px; height:20px; vertical-align: middle;'></progress>\n",
              "      31.23% [822/2632 06:53&lt;15:11 3.5595]\n",
              "    </div>\n",
              "    "
            ]
          },
          "metadata": {}
        }
      ]
    },
    {
      "cell_type": "code",
      "source": [
        "learn.save_encoder('finetuned')"
      ],
      "metadata": {
        "id": "tuu2yAJaedNi"
      },
      "execution_count": null,
      "outputs": []
    },
    {
      "cell_type": "code",
      "source": [
        "TEXT = \"I liked this movie because\"\n",
        "N_WORDS = 40\n",
        "N_SENTENCES = 2\n",
        "preds = [learn.predict(TEXT, N_WORDS, temperature=0.75)\n",
        " for _ in range(N_SENTENCES)]\n",
        "print(\"\\n\".join(preds))"
      ],
      "metadata": {
        "id": "qdYKiMWcemer"
      },
      "execution_count": null,
      "outputs": []
    },
    {
      "cell_type": "code",
      "source": [
        "dls_clas = DataBlock(\n",
        "    blocks=(TextBlock.from_folder(path, vocab=dls_lm.vocab), CategoryBlock),\n",
        "    get_y=parent_label,\n",
        "    get_items=partial(get_text_files, folders=['train', 'test']),\n",
        "    splitter=GrandparentSplitter(valid_name='test')\n",
        ").dataloaders(path, path=path, bs=128, seq_len=72)"
      ],
      "metadata": {
        "id": "q_O3J3ruf2oP"
      },
      "execution_count": null,
      "outputs": []
    },
    {
      "cell_type": "code",
      "source": [
        "num_samp = toks200[:10].map(num)"
      ],
      "metadata": {
        "id": "LIL2KP-8lEP1"
      },
      "execution_count": null,
      "outputs": []
    },
    {
      "cell_type": "code",
      "source": [
        "num_samp.map(len)"
      ],
      "metadata": {
        "id": "ttvLOOHklgQr"
      },
      "execution_count": null,
      "outputs": []
    },
    {
      "cell_type": "code",
      "source": [
        "learn = text_classifier_learner(dls_clas, AWD_LSTM, drop_mult=0.5,\n",
        "                             metrics=accuracy).to_fp16()"
      ],
      "metadata": {
        "id": "zz3eD3l2lisX"
      },
      "execution_count": null,
      "outputs": []
    },
    {
      "cell_type": "code",
      "source": [
        "learn = learn.load_encoder('finetuned')"
      ],
      "metadata": {
        "id": "svU7ocDYmAYn"
      },
      "execution_count": null,
      "outputs": []
    },
    {
      "cell_type": "code",
      "source": [
        "learn.fit_one_cycle(1, 2e-2)"
      ],
      "metadata": {
        "id": "bXGDoW8_mHf2"
      },
      "execution_count": null,
      "outputs": []
    },
    {
      "cell_type": "code",
      "source": [
        "learn.freeze_to(-2)\n",
        "learn.fit_one_cycle(1, slice(1e-2/(2.6**4), 1e-2))"
      ],
      "metadata": {
        "id": "4qMtc3aImUSb"
      },
      "execution_count": null,
      "outputs": []
    },
    {
      "cell_type": "code",
      "source": [
        "learn.freeze_to(-3)\n",
        "learn.fit_one_cycle(1, slice(5e-3/(2.6**4),5e-3))"
      ],
      "metadata": {
        "id": "3KJljjqdmZPC"
      },
      "execution_count": null,
      "outputs": []
    },
    {
      "cell_type": "code",
      "source": [
        "learn.unfreeze()\n",
        "learn.fit_one_cycle(2, slice(1e-3/(2.6**4),1e-3))"
      ],
      "metadata": {
        "id": "7vjAgx9dmchM"
      },
      "execution_count": null,
      "outputs": []
    },
    {
      "cell_type": "code",
      "source": [],
      "metadata": {
        "id": "tWbSLbAfmiP-"
      },
      "execution_count": null,
      "outputs": []
    }
  ],
  "metadata": {
    "colab": {
      "provenance": [],
      "gpuType": "T4"
    },
    "kernelspec": {
      "display_name": "Python 3",
      "name": "python3"
    },
    "language_info": {
      "name": "python"
    },
    "accelerator": "GPU"
  },
  "nbformat": 4,
  "nbformat_minor": 0
}